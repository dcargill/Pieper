{
 "cells": [
  {
   "cell_type": "code",
   "execution_count": 158,
   "metadata": {
    "collapsed": false
   },
   "outputs": [
    {
     "name": "stdout",
     "output_type": "stream",
     "text": [
      "The autoreload extension is already loaded. To reload it, use:\n",
      "  %reload_ext autoreload\n"
     ]
    }
   ],
   "source": [
    "import numpy as np\n",
    "import scipy as sp\n",
    "import scipy.constants as spc\n",
    "from scipy.integrate import simps\n",
    "from sklearn.tree import DecisionTreeRegressor\n",
    "from sklearn.ensemble import AdaBoostRegressor\n",
    "import os\n",
    "from scipy.misc import imread\n",
    "\n",
    "import matplotlib.pyplot as plt\n",
    "import matplotlib.mlab as mlab\n",
    "%matplotlib inline \n",
    "from pylab import *\n",
    "from mpl_toolkits.mplot3d.axes3d import Axes3D\n",
    "\n",
    "import time\n",
    "from cs231n.classifiers.fc_net import *\n",
    "from cs231n.gradient_check import eval_numerical_gradient, eval_numerical_gradient_array\n",
    "from cs231n.solver import Solver\n",
    "from cs231n.solver_waveprop import SolverWaveProp\n",
    "\n",
    "%matplotlib inline\n",
    "plt.rcParams['figure.figsize'] = (10.0, 8.0) # set default size of plots\n",
    "plt.rcParams['image.interpolation'] = 'nearest'\n",
    "plt.rcParams['image.cmap'] = 'gray'\n",
    "\n",
    "# for auto-reloading external modules\n",
    "# see http://stackoverflow.com/questions/1907993/autoreload-of-modules-in-ipython\n",
    "%load_ext autoreload\n",
    "%autoreload 2\n",
    "\n",
    "def rel_error(x, y):\n",
    "  \"\"\" returns relative error \"\"\"\n",
    "  return np.max(np.abs(x - y) / (np.maximum(1e-8, np.abs(x) + np.abs(y))))"
   ]
  },
  {
   "cell_type": "code",
   "execution_count": 160,
   "metadata": {
    "collapsed": false
   },
   "outputs": [],
   "source": [
    "## Specify Lens Characteristic\n",
    "#apertureLength = 2.0e-3; # meters (Side length for square, Diameter for circle)\n",
    "#focalLength = 1.0e-1; # meters\n",
    "waveLength  = 1.0e-6; # meters\n",
    "\n",
    "# For fersnelNumber, use 4.0 for main lobe to be a full pixel's width. \n",
    "# Use 8.0 for main lobe to be a half pixel's width. \n",
    "fersnelNumber = 4.0 #(apertureLength**2.0)/(focalLength*waveLength)\n",
    "ratio2 = 1.0\n",
    "#ratio = apertureLength/waveLength;\n",
    "\n",
    "#ratio2 = focalLength/apertureLength\n",
    "\n",
    "apertureToFocalPlaneFactor = 1.0\n",
    "#focalPlaneLength = apertureToFocalPlaneFactor*apertureLength; #meters\n",
    "\n",
    "#pixelSize      = 1e-3; # meters\n",
    "numberOfPixels = 2 #int(math.ceil(focalPlaneLength/pixelSize));\n",
    "\n",
    "\n",
    "dPixel      = apertureToFocalPlaneFactor/numberOfPixels\n",
    "pixelPoints    = -apertureToFocalPlaneFactor/2.0 + dPixel*np.arange(0.0,numberOfPixels+1)\n",
    "\n",
    "\n",
    "centerPoints = pixelPoints[0:len(pixelPoints)-1]+dPixel/2.0\n",
    "\n",
    "# Simuation Parameters\n",
    "segmentsPerPixel                 = 5\n",
    "pointsPerPixel                   = segmentsPerPixel+1\n",
    "numberOfSegmentsInFocalPlane     = segmentsPerPixel*numberOfPixels\n",
    "dFocalPlane                      = apertureToFocalPlaneFactor/numberOfSegmentsInFocalPlane\n",
    "focalPlanePoints                 = -apertureToFocalPlaneFactor/2.0 + dFocalPlane*np.arange(0.0,numberOfSegmentsInFocalPlane+1)\n",
    "focalPlaneMeshX, focalPlaneMeshY = np.meshgrid(focalPlanePoints, focalPlanePoints)\n",
    "\n",
    "#focalPlanePointsWithUnits = apertureLength*focalPlanePoints\n",
    "#dFocalPlaneWithUnits      = apertureLength*dFocalPlane\n",
    "\n",
    "\n",
    "# Physical Constants\n",
    "#sp.constants.codata.unit('the electric constant')\n",
    "vacuumPermittivity = spc.epsilon_0\n",
    "speedOfLight       = spc.c\n",
    "planksConstant     = spc.Planck \n",
    "returnIrradiance  = 1e-3 # (W/m^2)\n",
    "#amplitudeOfLight   = 1.0; # Electric field amplitude\n",
    "pulseDuration      = 50e-6; # seconds\n",
    "joulesPerPhoton    = speedOfLight*planksConstant/waveLength\n",
    "\n"
   ]
  },
  {
   "cell_type": "code",
   "execution_count": null,
   "metadata": {
    "collapsed": false
   },
   "outputs": [],
   "source": [
    "numberOfPixels\n",
    "print ratio2"
   ]
  },
  {
   "cell_type": "code",
   "execution_count": 161,
   "metadata": {
    "collapsed": false
   },
   "outputs": [],
   "source": [
    "def generateData(n,SNR=None, fersnelNumber=4):\n",
    "    ## Simulation Parameters\n",
    "    data = {}\n",
    "    data['X'] = np.zeros((n,numberOfPixels,numberOfPixels))\n",
    "    data['y'] = np.zeros((n,2))\n",
    "    data['c'] = np.zeros((n,2))\n",
    "    for i in xrange(n):\n",
    "        #theta = np.random.normal()*np.pi # angle from Z axis (0-pi/2)\n",
    "        #phi   = np.random.normal()*np.pi\n",
    "        \n",
    "        # Could also make y-values the xTilt and yTilt\n",
    "        #xTilt = -.5*np.random.uniform(-1.0,1.0)#np.sin(theta)*np.cos(phi)\n",
    "        #yTilt = -.5*np.random.uniform(-1.0,1.0)#np.sin(theta)*np.sin(phi)\n",
    "        # Top right corner only\n",
    "        xTilt = -.5*np.random.uniform(-1.0,1.0)\n",
    "        yTilt = -.5*np.random.uniform(-1.0,1.0)\n",
    "        data['y'][i,0] = -ratio2*xTilt\n",
    "        data['y'][i,1] = -ratio2*yTilt\n",
    "        pixelPointsXMesh, pixelPointsYMesh = np.meshgrid(pixelPoints,pixelPoints)\n",
    "        scatterPixelPointsX = np.reshape(pixelPointsXMesh,(1,np.size(pixelPointsXMesh)))\n",
    "        scatterPixelPointsY = np.reshape(pixelPointsYMesh,(1,np.size(pixelPointsYMesh)))\n",
    "        Fx = np.sinc(fersnelNumber*(focalPlaneMeshX + ratio2*xTilt))\n",
    "        #plt.plot(spaceDimensionPoints,Fx**2.0)\n",
    "        Fy = np.sinc(fersnelNumber*(focalPlaneMeshY + ratio2*yTilt))\n",
    "        #irradiance = vacuumPermittivity*speedOfLight*(amplitudeOfLight**2.0) * (Fx**2.0) * (Fy**2.0)\n",
    "        irradiance = returnIrradiance * (Fx**2.0) * (Fy**2.0)\n",
    "        pixelBlocks = np.zeros((numberOfPixels,numberOfPixels,pointsPerPixel,pointsPerPixel))\n",
    "\n",
    "        meshXBlocks = np.zeros((numberOfPixels,numberOfPixels,pointsPerPixel,pointsPerPixel))\n",
    "        meshYBlocks = np.zeros((numberOfPixels,numberOfPixels,pointsPerPixel,pointsPerPixel))\n",
    "        integrals    = np.zeros([numberOfPixels,numberOfPixels])\n",
    "\n",
    "        for indexPixel1 in range(0,numberOfPixels):\n",
    "            for indexPixel2 in range(0,numberOfPixels):\n",
    "                for indexPoint1 in range(0,pointsPerPixel):\n",
    "                    for indexPoint2 in range(0,pointsPerPixel):\n",
    "                        pixelBlocks[indexPixel1,indexPixel2,indexPoint1,indexPoint2] = irradiance[indexPixel1*(pointsPerPixel-1) + indexPoint1\n",
    "                                                                                                ,indexPixel2*(pointsPerPixel-1) + indexPoint2]\n",
    "                        meshXBlocks[indexPixel1,indexPixel2,indexPoint1,indexPoint2] = focalPlaneMeshX[indexPixel1*(pointsPerPixel-1) + indexPoint1\n",
    "                                                                                                ,indexPixel2*(pointsPerPixel-1) + indexPoint2]\n",
    "                        meshYBlocks[indexPixel1,indexPixel2,indexPoint1,indexPoint2] = focalPlaneMeshY[indexPixel1*(pointsPerPixel-1) + indexPoint1\n",
    "                                                                                                ,indexPixel2*(pointsPerPixel-1) + indexPoint2]\n",
    "         \n",
    "                        x = meshXBlocks[indexPixel1,indexPixel2,0,:]\n",
    "                        y = meshYBlocks[indexPixel1,indexPixel2,:,0]\n",
    "        \n",
    "                        integrals[indexPixel1,indexPixel2] = simps(simps(pixelBlocks[indexPixel1,indexPixel2,:,:], y), x)\n",
    "\n",
    "        photonsOrElectrons = (integrals/joulesPerPhoton)*pulseDuration\n",
    "        totalNumberOfSignalElectrons = np.sum(photonsOrElectrons)\n",
    "        if SNR == None:\n",
    "            sigmaElectrons = 0\n",
    "        else:\n",
    "            sigmaElectrons = np.sqrt( (1.0/numberOfPixels**2) * ( ((totalNumberOfSignalElectrons/SNR))**2 - totalNumberOfSignalElectrons) )\n",
    "        photonsOrElectronsWithNoise = photonsOrElectrons + sigmaElectrons*np.random.randn(integrals.shape[0],integrals.shape[1])\n",
    "        photonsOrElectronsWithNoise = np.maximum(photonsOrElectronsWithNoise,0)\n",
    "        \n",
    "        #integrals = np.fliplr(integrals.T).T\n",
    "        #print \"Data run %s done.\" %i \n",
    "        \n",
    "        \n",
    "        # Find centers of each cell and overall centroid\n",
    "        centerX, centerY = np.meshgrid(centerPoints,centerPoints)\n",
    "        #print centerX[1,3]\n",
    "        #print centerY[1,3]\n",
    "        \n",
    "        \n",
    "        # Gaussian data\n",
    "        #mean = np.array([np.random.uniform(-.5,.5),np.random.uniform(-.5,.5)])\n",
    "        #data['y'][i,0] = mean[0]\n",
    "        #data['y'][i,1] = mean[1]\n",
    "        #cov = np.array([[1, 0], [0, 1]])\n",
    "        #A = 1 #1/(2*np.pi)\n",
    "        #o=.125\n",
    "        #for i2 in range(0,numberOfPixels):\n",
    "        #    for j2 in range(0,numberOfPixels):\n",
    "        #        integrals[i2,j2] = A*np.exp(-(centerX[i2,j2]-mean[0])**2/(2*o**2))*np.exp(-(centerY[i2,j2]-mean[1])**2/(2*o**2))\n",
    "        #fig = plt.figure()\n",
    "        #ax = fig.add_subplot(111)#, projection='3d')\n",
    "        #ax.contour(centerX, centerY, integrals)\n",
    "        \n",
    "        data['X'][i,:] = photonsOrElectronsWithNoise\n",
    "        centerX = np.reshape(centerX,(1,np.size(centerX)))\n",
    "        centerY = np.reshape(centerY,(1,np.size(centerY)))\n",
    "        \n",
    "        photonsOrElectronsWithNoise = np.reshape(photonsOrElectronsWithNoise,(1,np.size(photonsOrElectronsWithNoise)))\n",
    "        meanX = np.sum(centerX*photonsOrElectronsWithNoise)/np.sum(photonsOrElectronsWithNoise)\n",
    "        meanY = np.sum(centerY*photonsOrElectronsWithNoise)/np.sum(photonsOrElectronsWithNoise)\n",
    "        centroid = [meanX, meanY]\n",
    "        #print centroid\n",
    "        centers = np.hstack((centerX.T,centerY.T))\n",
    "        data['c'][i,0] = meanX\n",
    "        data['c'][i,1] = meanY\n",
    "\n",
    "        #ax.scatter(data['c'][i,0],data['c'][i,1],color='red')\n",
    "        #ax.scatter(data['y'][i,0],data['y'][i,1],color='blue')\n",
    "        #ax.contourf(focalPlaneMeshX,focalPlaneMeshY, irradiance)\n",
    "        #fig2 = plt.figure()\n",
    "        #ax2 = fig2.add_subplot(111)#, projection='3d')\n",
    "        #ax2.contourf(focalPlaneMeshX,focalPlaneMeshY, irradiance)\n",
    "        \n",
    "        # Graph for function\n",
    "        #fig, ax = plt.subplots(figsize=(8,8))\n",
    "        #p = ax.contourf(focalPlaneMeshX,focalPlaneMeshY,irradiance,100)\n",
    "        #ax.scatter(scatterPixelPointsX, scatterPixelPointsY,color=\"red\")\n",
    "        #fig.colorbar(p)\n",
    "    return data"
   ]
  },
  {
   "cell_type": "code",
   "execution_count": 162,
   "metadata": {
    "collapsed": false
   },
   "outputs": [],
   "source": [
    "def generateValidationData(n=50,SNR=None,fersnelNumber=4.0):\n",
    "    ## Simulation Parameters\n",
    "    data = {}\n",
    "    data['X'] = np.zeros((n,numberOfPixels,numberOfPixels))\n",
    "    data['y'] = np.zeros((n,2))\n",
    "    data['c'] = np.zeros((n,2))\n",
    "    #\n",
    "    locs = np.linspace(-.5,.5,num=n)\n",
    "    #\n",
    "    #locs = np.linspace(-.5,.5,num=np.sqrt(n))\n",
    "    #x,y = np.meshgrid(locs,locs)\n",
    "    #x.reshape((1,x.shape[0]*x.shape[1]))\n",
    "    #y.reshape((1,y.shape[0]*y.shape[1]))\n",
    "    #\n",
    "    #locsx = np.linspace(0,.375,num=n)\n",
    "    #locsy = np.linspace(.125,.5,num=n)\n",
    "    #\n",
    "    #locsx = np.linspace(.125,.5,num=n)\n",
    "    #locsy = np.linspace(.5,.125,num=n)\n",
    "    for i in xrange(n):\n",
    "        xTilt = -locs[i] # -x[0]\n",
    "        yTilt = -locs[i] # -y[0]\n",
    "        data['y'][i,0] = -ratio2*xTilt\n",
    "        data['y'][i,1] = -ratio2*yTilt\n",
    "        pixelPointsXMesh, pixelPointsYMesh = np.meshgrid(pixelPoints,pixelPoints)\n",
    "        scatterPixelPointsX = np.reshape(pixelPointsXMesh,(1,np.size(pixelPointsXMesh)))\n",
    "        scatterPixelPointsY = np.reshape(pixelPointsYMesh,(1,np.size(pixelPointsYMesh)))\n",
    "        Fx = np.sinc(fersnelNumber*(focalPlaneMeshX + ratio2*xTilt))\n",
    "        Fy = np.sinc(fersnelNumber*(focalPlaneMeshY + ratio2*yTilt))\n",
    "        #irradiance = vacuumPermittivity*speedOfLight*(amplitudeOfLight**2.0) * (Fx**2.0) * (Fy**2.0)\n",
    "        irradiance = returnIrradiance * (Fx**2.0) * (Fy**2.0)\n",
    "        pixelBlocks = np.zeros((numberOfPixels,numberOfPixels,pointsPerPixel,pointsPerPixel))\n",
    "        meshXBlocks = np.zeros((numberOfPixels,numberOfPixels,pointsPerPixel,pointsPerPixel))\n",
    "        meshYBlocks = np.zeros((numberOfPixels,numberOfPixels,pointsPerPixel,pointsPerPixel))\n",
    "        integrals    = np.zeros([numberOfPixels,numberOfPixels])\n",
    "        for indexPixel1 in range(0,numberOfPixels):\n",
    "            for indexPixel2 in range(0,numberOfPixels):\n",
    "                for indexPoint1 in range(0,pointsPerPixel):\n",
    "                    for indexPoint2 in range(0,pointsPerPixel):\n",
    "                        pixelBlocks[indexPixel1,indexPixel2,indexPoint1,indexPoint2] = irradiance[indexPixel1*(pointsPerPixel-1) + indexPoint1\n",
    "                                                                                                ,indexPixel2*(pointsPerPixel-1) + indexPoint2]\n",
    "                        meshXBlocks[indexPixel1,indexPixel2,indexPoint1,indexPoint2] = focalPlaneMeshX[indexPixel1*(pointsPerPixel-1) + indexPoint1\n",
    "                                                                                                ,indexPixel2*(pointsPerPixel-1) + indexPoint2]\n",
    "                        meshYBlocks[indexPixel1,indexPixel2,indexPoint1,indexPoint2] = focalPlaneMeshY[indexPixel1*(pointsPerPixel-1) + indexPoint1\n",
    "                                                                                                ,indexPixel2*(pointsPerPixel-1) + indexPoint2]\n",
    "         \n",
    "                        x = meshXBlocks[indexPixel1,indexPixel2,0,:]\n",
    "                        y = meshYBlocks[indexPixel1,indexPixel2,:,0]\n",
    "        \n",
    "                        integrals[indexPixel1,indexPixel2] = simps(simps(pixelBlocks[indexPixel1,indexPixel2,:,:], y), x)\n",
    "        photonsOrElectrons = (integrals/joulesPerPhoton)*pulseDuration\n",
    "        totalNumberOfSignalElectrons = np.sum(photonsOrElectrons)\n",
    "        if SNR == None:\n",
    "            sigmaElectrons = 0\n",
    "        else:\n",
    "            sigmaElectrons = np.sqrt( (1.0/numberOfPixels**2) * ( ((totalNumberOfSignalElectrons/SNR))**2 - totalNumberOfSignalElectrons) )\n",
    "        photonsOrElectronsWithNoise = photonsOrElectrons + sigmaElectrons*np.random.randn(integrals.shape[0],integrals.shape[1])\n",
    "        photonsOrElectronsWithNoise = np.maximum(photonsOrElectronsWithNoise,0)\n",
    "        centerX, centerY = np.meshgrid(centerPoints,centerPoints)\n",
    "        # Gaussian data\n",
    "        #mean = np.array([locs[i],locs[i]])\n",
    "        #data['y'][i,0] = mean[0]\n",
    "        #data['y'][i,1] = mean[1]\n",
    "        #cov = np.array([[1, 0], [0, 1]])\n",
    "        #A = 1 #1/(2*np.pi)\n",
    "        #o=.125\n",
    "        #for i2 in range(0,numberOfPixels):\n",
    "        #    for j2 in range(0,numberOfPixels):\n",
    "        #        integrals[i2,j2] = A*np.exp(-(centerX[i2,j2]-mean[0])**2/(2*o**2))*np.exp(-(centerY[i2,j2]-mean[1])**2/(2*o**2))\n",
    "\n",
    "        \n",
    "        data['X'][i,:] = photonsOrElectronsWithNoise\n",
    "        centerX = np.reshape(centerX,(1,np.size(centerX)))\n",
    "        centerY = np.reshape(centerY,(1,np.size(centerY))) \n",
    "        photonsOrElectronsWithNoise = np.reshape(photonsOrElectronsWithNoise,(1,np.size(photonsOrElectronsWithNoise)))\n",
    "        meanX = np.sum(centerX*photonsOrElectronsWithNoise)/np.sum(photonsOrElectronsWithNoise)\n",
    "        meanY = np.sum(centerY*photonsOrElectronsWithNoise)/np.sum(photonsOrElectronsWithNoise)\n",
    "        centroid = [meanX, meanY]\n",
    "        centers = np.hstack((centerX.T,centerY.T))\n",
    "        data['c'][i,0] = meanX\n",
    "        data['c'][i,1] = meanY\n",
    "\n",
    "    return data"
   ]
  },
  {
   "cell_type": "code",
   "execution_count": null,
   "metadata": {
    "collapsed": false
   },
   "outputs": [],
   "source": [
    "a = generateData(1, fersnelNumber=8)\n",
    "#print a['y']\n",
    "#print a['c']\n",
    "#print a['X']"
   ]
  },
  {
   "cell_type": "code",
   "execution_count": null,
   "metadata": {
    "collapsed": false
   },
   "outputs": [],
   "source": [
    "gaussianData = generateData(32768)\n",
    "gaussianVal = generateValidationData()"
   ]
  },
  {
   "cell_type": "code",
   "execution_count": null,
   "metadata": {
    "collapsed": false
   },
   "outputs": [],
   "source": [
    "numberOfPixels = 4\n",
    "fersnelNumber = 4.0  # Full pixel\n",
    "print 'Starting No Noise...'\n",
    "fullPixelNoNoiseData = generateData(32768)\n",
    "fullPixelNoNoiseVal = generateValidationData()\n",
    "with open('cs231n/datasets/fullPixelNoNoiseData.txt', 'w') as f1:\n",
    "    np.savez(f1,X=fullPixelNoNoiseData['X'],y=fullPixelNoNoiseData['y'],c=fullPixelNoNoiseData['c'])\n",
    "    f1.close()\n",
    "with open('cs231n/datasets/fullPixelNoNoiseVal.txt', 'w') as f2:\n",
    "    np.savez(f2,X=fullPixelNoNoiseVal['X'],y=fullPixelNoNoiseVal['y'],c=fullPixelNoNoiseVal['c'])\n",
    "    f2.close()\n",
    "\n",
    "print 'Starting Low Noise...'\n",
    "fullPixelLowNoiseData = generateData(32768,SNR=20)\n",
    "fullPixelLowNoiseVal = generateValidationData(SNR=20)\n",
    "with open('cs231n/datasets/fullPixelLowNoiseData.txt', 'w') as f1:\n",
    "    np.savez(f1,X=fullPixelLowNoiseData['X'],y=fullPixelLowNoiseData['y'],c=fullPixelLowNoiseData['c'])\n",
    "    f1.close()\n",
    "with open('cs231n/datasets/fullPixelLowNoiseVal.txt', 'w') as f2:\n",
    "    np.savez(f2,X=fullPixelLowNoiseVal['X'],y=fullPixelLowNoiseVal['y'],c=fullPixelLowNoiseVal['c'])\n",
    "    f2.close()\n",
    "    \n",
    "print 'Starting Medium Noise...'\n",
    "fullPixelMediumNoiseData = generateData(32768, SNR=10)\n",
    "fullPixelMediumNoiseVal = generateValidationData(SNR=10)\n",
    "with open('cs231n/datasets/fullPixelMediumNoiseData.txt', 'w') as f1:\n",
    "    np.savez(f1,X=fullPixelMediumNoiseData['X'],y=fullPixelMediumNoiseData['y'],c=fullPixelMediumNoiseData['c'])\n",
    "    f1.close()\n",
    "with open('cs231n/datasets/fullPixelMediumNoiseVal.txt', 'w') as f2:\n",
    "    np.savez(f2,X=fullPixelMediumNoiseVal['X'],y=fullPixelMediumNoiseVal['y'],c=fullPixelMediumNoiseVal['c'])\n",
    "    f2.close()\n",
    "\n",
    "print 'Starting High Noise...'\n",
    "fullPixelHighNoiseData = generateData(32768, SNR=5)\n",
    "fullPixelHighNoiseVal = generateValidationData(SNR=5)\n",
    "with open('cs231n/datasets/fullPixelHighNoiseData.txt', 'w') as f1:\n",
    "    np.savez(f1,X=fullPixelHighNoiseData['X'],y=fullPixelHighNoiseData['y'],c=fullPixelHighNoiseData['c'])\n",
    "    f1.close()\n",
    "with open('cs231n/datasets/halfPixelHighNoiseVal.txt', 'w') as f2:\n",
    "    np.savez(f2,X=fullPixelHighNoiseVal['X'],y=fullPixelHighNoiseVal['y'],c=fullPixelHighNoiseVal['c'])\n",
    "    f2.close()"
   ]
  },
  {
   "cell_type": "code",
   "execution_count": null,
   "metadata": {
    "collapsed": false
   },
   "outputs": [],
   "source": [
    "# Half pixel, 4x4\n",
    "# Make sure to set numPixels=4\n",
    "print 'Starting No Noise...'\n",
    "halfPixelNoNoiseData = generateData(32768,fersnelNumber=8.0)\n",
    "halfPixelNoNoiseVal = generateValidationData(fersnelNumber=8.0)\n",
    "with open('cs231n/datasets/halfPixelNoNoiseData.txt', 'w') as f1:\n",
    "    np.savez(f1,X=halfPixelNoNoiseData['X'],y=halfPixelNoNoiseData['y'],c=halfPixelNoNoiseData['c'])\n",
    "    f1.close()\n",
    "with open('cs231n/datasets/halfPixelNoNoiseVal.txt', 'w') as f2:\n",
    "    np.savez(f2,X=halfPixelNoNoiseVal['X'],y=halfPixelNoNoiseVal['y'],c=halfPixelNoNoiseVal['c'])\n",
    "    f2.close()\n",
    "\n",
    "print 'Starting Low Noise...'\n",
    "halfPixelLowNoiseData = generateData(32768, SNR=20, fersnelNumber=8.0)\n",
    "halfPixelLowNoiseVal = generateValidationData(SNR=20, fersnelNumber=8.0)\n",
    "with open('cs231n/datasets/halfPixelLowNoiseData.txt', 'w') as f1:\n",
    "    np.savez(f1,X=halfPixelLowNoiseData['X'],y=halfPixelLowNoiseData['y'],c=halfPixelLowNoiseData['c'])\n",
    "    f1.close()\n",
    "with open('cs231n/datasets/halfPixelLowNoiseVal.txt', 'w') as f2:\n",
    "    np.savez(f2,X=halfPixelLowNoiseVal['X'],y=halfPixelLowNoiseVal['y'],c=halfPixelLowNoiseVal['c'])\n",
    "    f2.close()"
   ]
  },
  {
   "cell_type": "code",
   "execution_count": 143,
   "metadata": {
    "collapsed": false
   },
   "outputs": [],
   "source": [
    "print 'Starting Medium Noise...'\n",
    "#halfPixelMediumNoiseData = generateData(32768, SNR=10, fersnelNumber=8.0)\n",
    "halfPixelMediumNoiseVal = generateValidationData(SNR=10, fersnelNumber=8.0)\n",
    "with open('cs231n/datasets/halfPixelMediumNoiseData.txt', 'w') as f1:\n",
    "    np.savez(f1,X=halfPixelMediumNoiseData['X'],y=halfPixelMediumNoiseData['y'],c=halfPixelMediumNoiseData['c'])\n",
    "    f1.close()\n",
    "with open('cs231n/datasets/halfPixelMediumNoiseVal.txt', 'w') as f2:\n",
    "    np.savez(f2,X=halfPixelMediumNoiseVal['X'],y=halfPixelMediumNoiseVal['y'],c=halfPixelMediumNoiseVal['c'])\n",
    "    f2.close()\n",
    "                                              \n",
    "print 'Starting High Noise...'\n",
    "halfPixelHighNoiseData = generateData(32768, SNR=5, fersnelNumber=8.0)\n",
    "halfPixelHighNoiseVal = generateValidationData(SNR=5, fersnelNumber=8.0)\n",
    "with open('cs231n/datasets/halfPixelHighNoiseData.txt', 'w') as f1:\n",
    "    np.savez(f1,X=halfPixelHighNoiseData['X'],y=halfPixelHighNoiseData['y'],c=halfPixelHighNoiseData['c'])\n",
    "    f1.close()\n",
    "with open('cs231n/datasets/halfPixelHighNoiseVal.txt', 'w') as f2:\n",
    "    np.savez(f2,X=halfPixelHighNoiseVal['X'],y=halfPixelHighNoiseVal['y'],c=halfPixelHighNoiseVal['c'])\n",
    "    f2.close()"
   ]
  },
  {
   "cell_type": "code",
   "execution_count": null,
   "metadata": {
    "collapsed": false
   },
   "outputs": [],
   "source": [
    "###############  2 Pixels ###############\n",
    "print 'Starting No Noise...'\n",
    "twofullPixelNoNoiseData = generateData(16384, fersnelNumber=2.0)\n",
    "twofullPixelNoNoiseVal = generateValidationData(fersnelNumber=2.0)\n",
    "with open('cs231n/datasets/twofullPixelNoNoiseData.txt', 'w') as f1:\n",
    "    np.savez(f1,X=twofullPixelNoNoiseData['X'],y=twofullPixelNoNoiseData['y'],c=twofullPixelNoNoiseData['c'])\n",
    "    f1.close()\n",
    "with open('cs231n/datasets/twofullPixelNoNoiseVal.txt', 'w') as f2:\n",
    "    np.savez(f2,X=twofullPixelNoNoiseVal['X'],y=twofullPixelNoNoiseVal['y'],c=twofullPixelNoNoiseVal['c'])\n",
    "    f2.close()\n",
    "\n",
    "print 'Starting Low Noise...'\n",
    "twofullPixelLowNoiseData = generateData(16384,SNR=20, fersnelNumber=2.0)\n",
    "twofullPixelLowNoiseVal = generateValidationData(SNR=20, fersnelNumber=2.0)\n",
    "with open('cs231n/datasets/twofullPixelLowNoiseData.txt', 'w') as f1:\n",
    "    np.savez(f1,X=twofullPixelLowNoiseData['X'],y=twofullPixelLowNoiseData['y'],c=twofullPixelLowNoiseData['c'])\n",
    "    f1.close()\n",
    "with open('cs231n/datasets/twofullPixelLowNoiseVal.txt', 'w') as f2:\n",
    "    np.savez(f2,X=twofullPixelLowNoiseVal['X'],y=twofullPixelLowNoiseVal['y'],c=twofullPixelLowNoiseVal['c'])\n",
    "    f2.close()\n",
    "    \n",
    "print 'Starting Medium Noise...'\n",
    "twofullPixelMediumNoiseData = generateData(16384, SNR=10, fersnelNumber=2.0)\n",
    "twofullPixelMediumNoiseVal = generateValidationData(SNR=10, fersnelNumber=2.0)\n",
    "with open('cs231n/datasets/twofullPixelMediumNoiseData.txt', 'w') as f1:\n",
    "    np.savez(f1,X=twofullPixelMediumNoiseData['X'],y=twofullPixelMediumNoiseData['y'],c=twofullPixelMediumNoiseData['c'])\n",
    "    f1.close()\n",
    "with open('cs231n/datasets/twofullPixelMediumNoiseVal.txt', 'w') as f2:\n",
    "    np.savez(f2,X=twofullPixelMediumNoiseVal['X'],y=twofullPixelMediumNoiseVal['y'],c=twofullPixelMediumNoiseVal['c'])\n",
    "    f2.close()\n",
    "\n",
    "print 'Starting High Noise...'\n",
    "twofullPixelHighNoiseData = generateData(16384, SNR=5, fersnelNumber=2.0)\n",
    "twofullPixelHighNoiseVal = generateValidationData(SNR=5, fersnelNumber=2.0)\n",
    "with open('cs231n/datasets/twofullPixelHighNoiseData.txt', 'w') as f1:\n",
    "    np.savez(f1,X=twofullPixelHighNoiseData['X'],y=twofullPixelHighNoiseData['y'],c=twofullPixelHighNoiseData['c'])\n",
    "    f1.close()\n",
    "with open('cs231n/datasets/twohalfPixelHighNoiseVal.txt', 'w') as f2:\n",
    "    np.savez(f2,X=twofullPixelHighNoiseVal['X'],y=twofullPixelHighNoiseVal['y'],c=twofullPixelHighNoiseVal['c'])\n",
    "    f2.close()\n",
    "    \n",
    "print 'Starting No Noise...'\n",
    "twohalfPixelNoNoiseData = generateData(16384, fersnelNumber=4.0)\n",
    "twohalfPixelNoNoiseVal = generateValidationData(fersnelNumber=4.0)\n",
    "with open('cs231n/datasets/twohalfPixelNoNoiseData.txt', 'w') as f1:\n",
    "    np.savez(f1,X=twohalfPixelNoNoiseData['X'],y=twohalfPixelNoNoiseData['y'],c=twohalfPixelNoNoiseData['c'])\n",
    "    f1.close()\n",
    "with open('cs231n/datasets/twohalfPixelNoNoiseVal.txt', 'w') as f2:\n",
    "    np.savez(f2,X=twohalfPixelNoNoiseVal['X'],y=twohalfPixelNoNoiseVal['y'],c=twohalfPixelNoNoiseVal['c'])\n",
    "    f2.close()\n",
    "\n",
    "print 'Starting Low Noise...'\n",
    "twohalfPixelLowNoiseData = generateData(16384, SNR=20, fersnelNumber=4.0)\n",
    "twohalfPixelLowNoiseVal = generateValidationData(SNR=20, fersnelNumber=4.0)\n",
    "with open('cs231n/datasets/twohalfPixelLowNoiseData.txt', 'w') as f1:\n",
    "    np.savez(f1,X=twohalfPixelLowNoiseData['X'],y=twohalfPixelLowNoiseData['y'],c=twohalfPixelLowNoiseData['c'])\n",
    "    f1.close()\n",
    "with open('cs231n/datasets/twohalfPixelLowNoiseVal.txt', 'w') as f2:\n",
    "    np.savez(f2,X=twohalfPixelLowNoiseVal['X'],y=twohalfPixelLowNoiseVal['y'],c=twohalfPixelLowNoiseVal['c'])\n",
    "    f2.close()\n",
    "    \n",
    "print 'Starting Medium Noise...'\n",
    "twohalfPixelMediumNoiseData = generateData(16384, SNR=10, fersnelNumber=4.0)\n",
    "twohalfPixelMediumNoiseVal = generateValidationData(SNR=10, fersnelNumber=4.0)\n",
    "with open('cs231n/datasets/twohalfPixelMediumNoiseData.txt', 'w') as f1:\n",
    "    np.savez(f1,X=twohalfPixelMediumNoiseData['X'],y=twohalfPixelMediumNoiseData['y'],c=twohalfPixelMediumNoiseData['c'])\n",
    "    f1.close()\n",
    "with open('cs231n/datasets/twohalfPixelMediumNoiseVal.txt', 'w') as f2:\n",
    "    np.savez(f2,X=twohalfPixelMediumNoiseVal['X'],y=twohalfPixelMediumNoiseVal['y'],c=twohalfPixelMediumNoiseVal['c'])\n",
    "    f2.close()\n",
    "                                              \n",
    "print 'Starting High Noise...'\n",
    "twohalfPixelHighNoiseData = generateData(16384, SNR=5, fersnelNumber=4.0)\n",
    "twohalfPixelHighNoiseVal = generateValidationData(SNR=5, fersnelNumber=4.0)\n",
    "with open('cs231n/datasets/twohalfPixelHighNoiseData.txt', 'w') as f1:\n",
    "    np.savez(f1,X=twohalfPixelHighNoiseData['X'],y=twohalfPixelHighNoiseData['y'],c=twohalfPixelHighNoiseData['c'])\n",
    "    f1.close()\n",
    "with open('cs231n/datasets/twohalfPixelHighNoiseVal.txt', 'w') as f2:\n",
    "    np.savez(f2,X=twohalfPixelHighNoiseVal['X'],y=twohalfPixelHighNoiseVal['y'],c=twohalfPixelHighNoiseVal['c'])\n",
    "    f2.close()"
   ]
  },
  {
   "cell_type": "code",
   "execution_count": 144,
   "metadata": {
    "collapsed": false
   },
   "outputs": [
    {
     "ename": "NameError",
     "evalue": "name 'fullPixelNoNoiseData' is not defined",
     "output_type": "error",
     "traceback": [
      "\u001b[1;31m---------------------------------------------------------------------------\u001b[0m",
      "\u001b[1;31mNameError\u001b[0m                                 Traceback (most recent call last)",
      "\u001b[1;32m<ipython-input-144-bc0b95c7b8f1>\u001b[0m in \u001b[0;36m<module>\u001b[1;34m()\u001b[0m\n\u001b[1;32m----> 1\u001b[1;33m \u001b[0mrunData\u001b[0m\u001b[1;33m(\u001b[0m\u001b[0mfullPixelNoNoiseData\u001b[0m\u001b[1;33m,\u001b[0m \u001b[0mfullPixelNoNoiseVal\u001b[0m\u001b[1;33m,\u001b[0m \u001b[0mmessage\u001b[0m\u001b[1;33m=\u001b[0m\u001b[1;34m'fullPixelNoNoise'\u001b[0m\u001b[1;33m,\u001b[0m \u001b[0mhidden_dims\u001b[0m\u001b[1;33m=\u001b[0m\u001b[1;33m[\u001b[0m\u001b[1;36m150\u001b[0m\u001b[1;33m,\u001b[0m\u001b[1;36m150\u001b[0m\u001b[1;33m,\u001b[0m\u001b[1;36m150\u001b[0m\u001b[1;33m]\u001b[0m\u001b[1;33m)\u001b[0m\u001b[1;33m\u001b[0m\u001b[0m\n\u001b[0m\u001b[0;32m      2\u001b[0m \u001b[0mrunData\u001b[0m\u001b[1;33m(\u001b[0m\u001b[0mfullPixelLowNoiseData\u001b[0m\u001b[1;33m,\u001b[0m \u001b[0mfullPixelLowNoiseVal\u001b[0m\u001b[1;33m,\u001b[0m \u001b[0mmessage\u001b[0m\u001b[1;33m=\u001b[0m\u001b[1;34m'fullPixelLowNoise'\u001b[0m\u001b[1;33m,\u001b[0m \u001b[0mhidden_dims\u001b[0m\u001b[1;33m=\u001b[0m\u001b[1;33m[\u001b[0m\u001b[1;36m150\u001b[0m\u001b[1;33m,\u001b[0m\u001b[1;36m150\u001b[0m\u001b[1;33m,\u001b[0m\u001b[1;36m150\u001b[0m\u001b[1;33m]\u001b[0m\u001b[1;33m)\u001b[0m\u001b[1;33m\u001b[0m\u001b[0m\n\u001b[0;32m      3\u001b[0m \u001b[0mrunData\u001b[0m\u001b[1;33m(\u001b[0m\u001b[0mfullPixelMediumNoiseData\u001b[0m\u001b[1;33m,\u001b[0m \u001b[0mfullPixelMediumNoiseVal\u001b[0m\u001b[1;33m,\u001b[0m \u001b[0mmessage\u001b[0m\u001b[1;33m=\u001b[0m\u001b[1;34m'fullPixelMediumNoise'\u001b[0m\u001b[1;33m,\u001b[0m \u001b[0mhidden_dims\u001b[0m\u001b[1;33m=\u001b[0m\u001b[1;33m[\u001b[0m\u001b[1;36m150\u001b[0m\u001b[1;33m,\u001b[0m\u001b[1;36m150\u001b[0m\u001b[1;33m,\u001b[0m\u001b[1;36m150\u001b[0m\u001b[1;33m]\u001b[0m\u001b[1;33m)\u001b[0m\u001b[1;33m\u001b[0m\u001b[0m\n\u001b[0;32m      4\u001b[0m \u001b[0mrunData\u001b[0m\u001b[1;33m(\u001b[0m\u001b[0mfullPixelHighNoiseData\u001b[0m\u001b[1;33m,\u001b[0m \u001b[0mfullPixelHighNoiseVal\u001b[0m\u001b[1;33m,\u001b[0m \u001b[0mmessage\u001b[0m\u001b[1;33m=\u001b[0m\u001b[1;34m'fullPixelHighNoise'\u001b[0m\u001b[1;33m,\u001b[0m \u001b[0mhidden_dims\u001b[0m\u001b[1;33m=\u001b[0m\u001b[1;33m[\u001b[0m\u001b[1;36m150\u001b[0m\u001b[1;33m,\u001b[0m\u001b[1;36m150\u001b[0m\u001b[1;33m,\u001b[0m\u001b[1;36m150\u001b[0m\u001b[1;33m]\u001b[0m\u001b[1;33m)\u001b[0m\u001b[1;33m\u001b[0m\u001b[0m\n",
      "\u001b[1;31mNameError\u001b[0m: name 'fullPixelNoNoiseData' is not defined"
     ]
    }
   ],
   "source": [
    "runData(fullPixelNoNoiseData, fullPixelNoNoiseVal, message='fullPixelNoNoise', hidden_dims=[150,150,150])\n",
    "runData(fullPixelLowNoiseData, fullPixelLowNoiseVal, message='fullPixelLowNoise', hidden_dims=[150,150,150])\n",
    "runData(fullPixelMediumNoiseData, fullPixelMediumNoiseVal, message='fullPixelMediumNoise', hidden_dims=[150,150,150])\n",
    "runData(fullPixelHighNoiseData, fullPixelHighNoiseVal, message='fullPixelHighNoise', hidden_dims=[150,150,150])"
   ]
  },
  {
   "cell_type": "code",
   "execution_count": null,
   "metadata": {
    "collapsed": true
   },
   "outputs": [],
   "source": [
    "runData(halfPixelNoNoiseData, halfPixelNoNoiseVal, message='halfPixelNoNoise', hidden_dims=[150,150,150])\n",
    "runData(halfPixelLowNoiseData, halfPixelLowNoiseVal, message='halfPixelLowNoise', hidden_dims=[150,150,150])\n",
    "runData(halfPixelMediumNoiseData, halfPixelMediumNoiseVal, message='halfPixelMediumNoise', hidden_dims=[150,150,150])\n",
    "runData(halfPixelHighNoiseData, halfPixelHighNoiseVal, message='halfPixelHighNoise', hidden_dims=[150,150,150])"
   ]
  },
  {
   "cell_type": "code",
   "execution_count": null,
   "metadata": {
    "collapsed": true
   },
   "outputs": [],
   "source": [
    "runData(twofullPixelNoNoiseData, twofullPixelNoNoiseVal, message='twofullPixelNoNoise', hidden_dims=[75,75,75])\n",
    "runData(twofullPixelLowNoiseData, twofullPixelLowNoiseVal, message='twofullPixelLowNoise', hidden_dims=[75,75,75])\n",
    "runData(twofullPixelMediumNoiseData, twofullPixelMediumNoiseVal, message='twofullPixelMediumNoise', hidden_dims=[75,75,75])\n",
    "runData(twofullPixelHighNoiseData, twofullPixelHighNoiseVal, message='twofullPixelHighNoise', hidden_dims=[75,75,75])"
   ]
  },
  {
   "cell_type": "code",
   "execution_count": null,
   "metadata": {
    "collapsed": true
   },
   "outputs": [],
   "source": [
    "runData(twohalfPixelNoNoiseData, twohalfPixelNoNoiseVal, message='twohalfPixelNoNoise', hidden_dims=[75,75,75])\n",
    "runData(twohalfPixelLowNoiseData, twohalfPixelLowNoiseVal, message='twohalfPixelLowNoise', hidden_dims=[75,75,75])\n",
    "runData(twohalfPixelMediumNoiseData, twohalfPixelMediumNoiseVal, message='twohalfPixelMediumNoise', hidden_dims=[75,75,75])\n",
    "runData(twohalfPixelHighNoiseData, twohalfPixelHighNoiseVal, message='twohalfPixelHighNoise', hidden_dims=[75,75,75])"
   ]
  },
  {
   "cell_type": "code",
   "execution_count": null,
   "metadata": {
    "collapsed": false
   },
   "outputs": [],
   "source": [
    "Training_Dict = {}\n",
    "Validation_Dict = {}\n",
    "with open('cs231n/datasets/fullPixelNoNoiseData.txt', 'rb') as f1:\n",
    "    data = np.load(f1)\n",
    "    Training_Dict['X'] = data['X']\n",
    "    Training_Dict['y'] = data['y']\n",
    "    Training_Dict['c'] = data['c']\n",
    "    f1.close()\n",
    "with open('cs231n/datasets/fullPixelNoNoiseVal.txt', 'rb') as f2:\n",
    "    val = np.load(f2)\n",
    "    Validation_Dict['X'] = val['X']\n",
    "    Validation_Dict['y'] = val['y']\n",
    "    Validation_Dict['c'] = val['c']\n",
    "    f2.close()\n",
    "means, stds = runDataMultipleSamples(Training_Dict, numPoints = 50, iterations = 7, message='TestMultipleSamples', hidden_dims=[35])\n",
    "with open('cs231n/datasets/means_stds.txt', 'w') as f1:\n",
    "    np.savez(f1,means=means, stds = stds)\n",
    "    f1.close()"
   ]
  },
  {
   "cell_type": "code",
   "execution_count": null,
   "metadata": {
    "collapsed": false
   },
   "outputs": [],
   "source": [
    "topRightData = generateData(32768,fersnelNumber=8.0, SNR=10)\n",
    "with open('cs231n/datasets/topRightData.txt', 'w') as f1:\n",
    "    np.savez(f1,X=topRightData['X'],y=topRightData['y'],c=topRightData['c'])\n",
    "    f1.close()"
   ]
  },
  {
   "cell_type": "code",
   "execution_count": null,
   "metadata": {
    "collapsed": false,
    "scrolled": false
   },
   "outputs": [],
   "source": [
    "means, stds, centroid_error, NN_error = runDataMultipleSamples(topRightData, numPoints = 50, fersnelNumber=8.0,iterations = 1, message='TestMultipleSamples', hidden_dims=[50,50])\n",
    "with open('cs231n/datasets/means_stds_topRightOneVal.txt', 'w') as f:\n",
    "    np.savez(f,means=means, stds = stds, centroid_error=centroid_error, NN_error=NN_error)\n",
    "    f.close()"
   ]
  },
  {
   "cell_type": "code",
   "execution_count": null,
   "metadata": {
    "collapsed": true
   },
   "outputs": [],
   "source": [
    "topRightTwoVal = generateValidationData(fersnelNumber=8.0, SNR=10)\n",
    "with open('cs231n/datasets/topRightTwoVal.txt', 'w') as f2:\n",
    "    np.savez(f2,X=topRightTwoVal['X'],y=topRightTwoVal['y'],c=topRightTwoVal['c'])\n",
    "    f2.close()"
   ]
  },
  {
   "cell_type": "code",
   "execution_count": null,
   "metadata": {
    "collapsed": true
   },
   "outputs": [],
   "source": [
    "means, stds = runDataMultipleSamples(topRightData, numPoints = 50, SNR=10, fersnelNumber=8.0, iterations = 5, message='TestMultipleSamples', hidden_dims=[150,150,150])\n",
    "with open('cs231n/datasets/means_stds_topRightTwoVal.txt', 'w') as f:\n",
    "    np.savez(f,means=means, stds = stds, centroid_error=centroid_error, NN_error=NN_error)\n",
    "    f.close()"
   ]
  },
  {
   "cell_type": "code",
   "execution_count": null,
   "metadata": {
    "collapsed": true
   },
   "outputs": [],
   "source": [
    "with open('cs231n/datasets/means_stds.txt', 'w') as f1:\n",
    "    np.savez(f1,means=means, stds = stds)\n",
    "    f1.close()"
   ]
  },
  {
   "cell_type": "code",
   "execution_count": null,
   "metadata": {
    "collapsed": false
   },
   "outputs": [],
   "source": [
    "#tr = generateData(1024)\n",
    "#val = generateValidationData()\n",
    "#runData(tr,val, message='test')"
   ]
  },
  {
   "cell_type": "code",
   "execution_count": null,
   "metadata": {
    "collapsed": false
   },
   "outputs": [],
   "source": [
    "def runData(Training_Dict, Validation_Dict, message='', hidden_dims=[20]):\n",
    "    print message\n",
    "    tr = Training_Dict\n",
    "    val = Validation_Dict\n",
    "\n",
    "    small = {\n",
    "        'X_train': tr['X']/np.max(tr['X']),\n",
    "        'y_train': tr['y'],\n",
    "        'c_train': tr['c'],\n",
    "        'X_val': val['X']/np.max(tr['X']),\n",
    "        'y_val': val['y'],\n",
    "        'c_val': val['c'],\n",
    "    }\n",
    "\n",
    "    input_dim=small['X_train'].shape[1]*small['X_train'].shape[2]\n",
    "    weight_scale = 1e-2\n",
    "    model = FullyConnectedNet(hidden_dims, input_dim=input_dim, weight_scale=weight_scale, reg=.0001,num_classes=2, use_batchnorm=True)\n",
    "\n",
    "    solver = Solver(model,small,\n",
    "                    num_epochs=100, batch_size=64,\n",
    "                    update_rule='adam',\n",
    "                    optim_config={\n",
    "                      'learning_rate': 1e-2,\n",
    "                    },\n",
    "                    verbose=False, print_every=100000,\n",
    "                   lr_decay=.99)\n",
    "    #solver.train()\n",
    "    scores = solver.train()\n",
    "        \n",
    "    N = val['X'].shape[0]\n",
    "    print \"Centroid L-2 Average Validation Error: \", .5*np.sum((val['c']-val['y'])**2) / N\n",
    "    print \"NN Average Validation Error: \", .5*np.sum((scores-val['y'])**2) / N\n",
    "    #print \"Final training loss: \", solver.loss_history[-1]\n",
    "    #print \"Final training acc: \", solver.train_acc_history[-1]\n",
    "    #print \"Final validation error: \", solver.val_acc_history[-1]\n",
    "    \n",
    "    fig,ax = plt.subplots()\n",
    "    ax.set_title(message + 'xy')\n",
    "    plt.ylabel('Estimated Centroid Location')\n",
    "    plt.xlabel('Actual Centroid Location')\n",
    "    ax.plot(val['y'][:,0],val['y'][:,1],'-',scores[:,0],scores[:,1],'+',val['c'][:,0],val['c'][:,1],'*')\n",
    "    ax.locator_params(tight=True)\n",
    "    plt.show()\n",
    "    \n",
    "    fig,ax = plt.subplots()\n",
    "    ax.set_title(message + 'y only')\n",
    "    plt.ylabel('Estimated Centroid Location')\n",
    "    plt.xlabel('Actual Centroid Location')\n",
    "    ax.plot(val['y'][:,0],val['y'][:,1],'-',np.linspace(-.5,.5,50),scores[:,1],'+',val['c'][:,0],val['c'][:,1],'*')\n",
    "    ax.locator_params(tight=True)\n",
    "    plt.show()"
   ]
  },
  {
   "cell_type": "code",
   "execution_count": 165,
   "metadata": {
    "collapsed": false
   },
   "outputs": [
    {
     "name": "stdout",
     "output_type": "stream",
     "text": [
      "fullPixelNoNoise\n",
      "0\n",
      "1\n",
      "2\n",
      "3\n",
      "4\n",
      "5\n",
      "6\n",
      "Centroid L-2 Average Validation Error:  0.0143717632404\n",
      "NN Average Validation Error:  0.00540507837475\n"
     ]
    },
    {
     "data": {
      "image/png": "[encoded data removed]",
      "text/plain": [
       "<matplotlib.figure.Figure at 0x7f5a36b44610>"
      ]
     },
     "metadata": {},
     "output_type": "display_data"
    },
    {
     "data": {
      "image/png": "[encoded data removed]",
      "text/plain": [
       "<matplotlib.figure.Figure at 0x7f5a46f20bd0>"
      ]
     },
     "metadata": {},
     "output_type": "display_data"
    },
    {
     "name": "stdout",
     "output_type": "stream",
     "text": [
      "fullPixelLowNoise\n",
      "0\n",
      "1\n",
      "2\n",
      "3\n",
      "4\n",
      "5\n",
      "6\n",
      "Centroid L-2 Average Validation Error:  0.0150060303598\n",
      "NN Average Validation Error:  0.0106820493013\n"
     ]
    },
    {
     "data": {
      "image/png": "[encoded data removed]",
      "text/plain": [
       "<matplotlib.figure.Figure at 0x7f5a36220490>"
      ]
     },
     "metadata": {},
     "output_type": "display_data"
    },
    {
     "data": {
      "image/png": "[encoded data removed]",
      "text/plain": [
       "<matplotlib.figure.Figure at 0x7f5a46fba3d0>"
      ]
     },
     "metadata": {},
     "output_type": "display_data"
    },
    {
     "name": "stdout",
     "output_type": "stream",
     "text": [
      "fullPixelMediumNoise\n",
      "0\n",
      "1\n",
      "2\n",
      "3\n",
      "4\n",
      "5\n",
      "6\n",
      "Centroid L-2 Average Validation Error:  0.0163503524527\n",
      "NN Average Validation Error:  0.0167777072068\n"
     ]
    },
    {
     "data": {
      "image/png": "[encoded data removed]",
      "text/plain": [
       "<matplotlib.figure.Figure at 0x7f5a36328f90>"
      ]
     },
     "metadata": {},
     "output_type": "display_data"
    },
    {
     "data": {
      "image/png": "[encoded data removed]",
      "text/plain": [
       "<matplotlib.figure.Figure at 0x7f5a36587c50>"
      ]
     },
     "metadata": {},
     "output_type": "display_data"
    },
    {
     "name": "stdout",
     "output_type": "stream",
     "text": [
      "fullPixelHighNoise\n",
      "0\n",
      "1\n",
      "2\n",
      "3\n",
      "4\n",
      "5\n",
      "6\n",
      "Centroid L-2 Average Validation Error:  0.0189630545029\n",
      "NN Average Validation Error:  0.0171343333055\n"
     ]
    },
    {
     "data": {
      "image/png": "[encoded data removed]",
      "text/plain": [
       "<matplotlib.figure.Figure at 0x7f5a36439f50>"
      ]
     },
     "metadata": {},
     "output_type": "display_data"
    },
    {
     "data": {
      "image/png": "[encoded data removed]",
      "text/plain": [
       "<matplotlib.figure.Figure at 0x7f5a36b77c50>"
      ]
     },
     "metadata": {},
     "output_type": "display_data"
    },
    {
     "name": "stdout",
     "output_type": "stream",
     "text": [
      "fullPixelNoNoise\n",
      "0\n",
      "1\n",
      "2\n",
      "3\n",
      "4\n",
      "5\n",
      "6\n",
      "Centroid L-2 Average Validation Error:  0.0150928358289\n",
      "NN Average Validation Error:  0.000134400747213\n"
     ]
    },
    {
     "data": {
      "image/png": "[encoded data removed]",
      "text/plain": [
       "<matplotlib.figure.Figure at 0x7f5a36439a90>"
      ]
     },
     "metadata": {},
     "output_type": "display_data"
    },
    {
     "data": {
      "image/png": "[encoded data removed]",
      "text/plain": [
       "<matplotlib.figure.Figure at 0x7f5a36a531d0>"
      ]
     },
     "metadata": {},
     "output_type": "display_data"
    },
    {
     "name": "stdout",
     "output_type": "stream",
     "text": [
      "fullPixelLowNoise\n",
      "0\n",
      "1\n",
      "2\n",
      "3\n",
      "4\n",
      "5\n",
      "6\n",
      "Centroid L-2 Average Validation Error:  0.015634073564\n",
      "NN Average Validation Error:  0.00194263257395\n"
     ]
    },
    {
     "data": {
      "image/png": "[encoded data removed]",
      "text/plain": [
       "<matplotlib.figure.Figure at 0x7f5a36b27cd0>"
      ]
     },
     "metadata": {},
     "output_type": "display_data"
    },
    {
     "data": {
      "image/png": "[encoded data removed]",
      "text/plain": [
       "<matplotlib.figure.Figure at 0x7f5a36a53b10>"
      ]
     },
     "metadata": {},
     "output_type": "display_data"
    },
    {
     "name": "stdout",
     "output_type": "stream",
     "text": [
      "fullPixelMediumNoise\n",
      "0\n",
      "1\n",
      "2\n",
      "3\n",
      "4\n",
      "5\n",
      "6\n",
      "Centroid L-2 Average Validation Error:  0.017473028717\n",
      "NN Average Validation Error:  0.00657617747568\n"
     ]
    },
    {
     "data": {
      "image/png": "[encoded data removed]",
      "text/plain": [
       "<matplotlib.figure.Figure at 0x7f5a3639f3d0>"
      ]
     },
     "metadata": {},
     "output_type": "display_data"
    },
    {
     "data": {
      "image/png": "[encoded data removed]",
      "text/plain": [
       "<matplotlib.figure.Figure at 0x7f5a36927d10>"
      ]
     },
     "metadata": {},
     "output_type": "display_data"
    },
    {
     "name": "stdout",
     "output_type": "stream",
     "text": [
      "fullPixelHighNoise\n",
      "0\n",
      "1\n",
      "2\n",
      "3\n",
      "4\n",
      "5\n",
      "6\n",
      "Centroid L-2 Average Validation Error:  0.0188264724463\n",
      "NN Average Validation Error:  0.010787375807\n"
     ]
    },
    {
     "data": {
      "image/png": "[encoded data removed]",
      "text/plain": [
       "<matplotlib.figure.Figure at 0x7f5a36b27510>"
      ]
     },
     "metadata": {},
     "output_type": "display_data"
    },
    {
     "data": {
      "image/png": "[encoded data removed]",
      "text/plain": [
       "<matplotlib.figure.Figure at 0x7f5a362bea10>"
      ]
     },
     "metadata": {},
     "output_type": "display_data"
    }
   ],
   "source": [
    "# Bucketing full pixel data\n",
    "Training_Dict1 = {}\n",
    "with open('cs231n/datasets/twohalfPixelNoNoiseData.txt', 'rb') as f1:\n",
    "    data = np.load(f1)\n",
    "    Training_Dict1['X'] = data['X']\n",
    "    Training_Dict1['y'] = data['y']\n",
    "    Training_Dict1['c'] = data['c']\n",
    "    f1.close()\n",
    "meansNoNoise, stdsNoNoise, centroid_errorNoNoise, NN_errorNoNoise = runDataMultipleSamples(Training_Dict1, fersnelNumber=4.0,numPoints = 50, iterations = 7, message='fullPixelNoNoise', hidden_dims=[75,75,75])\n",
    "with open('cs231n/datasets/means_stds_3x75layer_50epochs_2x2_halfPixel_NoNoise.txt', 'w') as f1:\n",
    "    np.savez(f1,means=meansNoNoise, stds = stdsNoNoise, centroid_error = centroid_errorNoNoise, NN_error = NN_errorNoNoise)\n",
    "    f1.close()\n",
    "\n",
    "Training_Dict2 = {}\n",
    "with open('cs231n/datasets/twohalfPixelLowNoiseData.txt', 'rb') as f1:\n",
    "    data = np.load(f1)\n",
    "    Training_Dict2['X'] = data['X']\n",
    "    Training_Dict2['y'] = data['y']\n",
    "    Training_Dict2['c'] = data['c']\n",
    "    f1.close()\n",
    "meansLowNoise, stdsLowNoise, centroid_errorLowNoise, NN_errorLowNoise = runDataMultipleSamples(Training_Dict2, SNR=20,fersnelNumber=4.0, numPoints = 50, iterations = 7, message='fullPixelLowNoise', hidden_dims=[75,75,75])\n",
    "with open('cs231n/datasets/means_stds_3x75layer_50epochs_2x2_halfPixel_LowNoise.txt', 'w') as f1:\n",
    "    np.savez(f1,means=meansLowNoise, stds = stdsLowNoise, centroid_error = centroid_errorLowNoise, NN_error = NN_errorLowNoise)\n",
    "    f1.close()\n",
    "\n",
    "Training_Dict3 = {}\n",
    "with open('cs231n/datasets/twohalfPixelMediumNoiseData.txt', 'rb') as f1:\n",
    "    data = np.load(f1)\n",
    "    Training_Dict3['X'] = data['X']\n",
    "    Training_Dict3['y'] = data['y']\n",
    "    Training_Dict3['c'] = data['c']\n",
    "    f1.close()\n",
    "meansMediumNoise, stdsMediumNoise, centroid_errorMediumNoise, NN_errorMediumNoise  =runDataMultipleSamples(Training_Dict3, SNR=10, fersnelNumber=4.0,numPoints = 50, iterations = 7,message='fullPixelMediumNoise', hidden_dims=[75,75,75])\n",
    "with open('cs231n/datasets/means_stds_3x75layer_50epochs_2x2_halfPixel_MediumNoise.txt', 'w') as f1:\n",
    "    np.savez(f1,means=meansMediumNoise, stds = stdsMediumNoise, centroid_error = centroid_errorMediumNoise, NN_error = NN_errorMediumNoise)\n",
    "    f1.close()\n",
    "    \n",
    "Training_Dict4 = {}\n",
    "with open('cs231n/datasets/twohalfPixelHighNoiseData.txt', 'rb') as f1:\n",
    "    data = np.load(f1)\n",
    "    Training_Dict4['X'] = data['X']\n",
    "    Training_Dict4['y'] = data['y']\n",
    "    Training_Dict4['c'] = data['c']\n",
    "    f1.close()\n",
    "meansHighNoise, stdsHighNoise, centroid_errorHighNoise, NN_errorHighNoise = runDataMultipleSamples(Training_Dict4, SNR=5, fersnelNumber=4.0,numPoints = 50, iterations = 7,message='fullPixelHighNoise', hidden_dims=[75,75,75])\n",
    "with open('cs231n/datasets/means_stds_3x75layer_50epochs_2x2_halfPixel_HighNoise.txt', 'w') as f1:\n",
    "    np.savez(f1,means=meansHighNoise, stds = stdsHighNoise, centroid_error = centroid_errorHighNoise, NN_error = NN_errorHighNoise)\n",
    "    f1.close()\n",
    "    \n",
    "Training_Dict1 = {}\n",
    "with open('cs231n/datasets/twofullPixelNoNoiseData.txt', 'rb') as f1:\n",
    "    data = np.load(f1)\n",
    "    Training_Dict1['X'] = data['X']\n",
    "    Training_Dict1['y'] = data['y']\n",
    "    Training_Dict1['c'] = data['c']\n",
    "    f1.close()\n",
    "meansNoNoise, stdsNoNoise, centroid_errorNoNoise, NN_errorNoNoise = runDataMultipleSamples(Training_Dict1, fersnelNumber=2.0,numPoints = 50, iterations = 7, message='fullPixelNoNoise', hidden_dims=[75,75,75])\n",
    "with open('cs231n/datasets/means_stds_3x75layer_50epochs_2x2_fullPixel_NoNoise.txt', 'w') as f1:\n",
    "    np.savez(f1,means=meansNoNoise, stds = stdsNoNoise, centroid_error = centroid_errorNoNoise, NN_error = NN_errorNoNoise)\n",
    "    f1.close()\n",
    "\n",
    "Training_Dict2 = {}\n",
    "with open('cs231n/datasets/twofullPixelLowNoiseData.txt', 'rb') as f1:\n",
    "    data = np.load(f1)\n",
    "    Training_Dict2['X'] = data['X']\n",
    "    Training_Dict2['y'] = data['y']\n",
    "    Training_Dict2['c'] = data['c']\n",
    "    f1.close()\n",
    "meansLowNoise, stdsLowNoise, centroid_errorLowNoise, NN_errorLowNoise = runDataMultipleSamples(Training_Dict2, SNR=20,fersnelNumber=2.0, numPoints = 50, iterations = 7, message='fullPixelLowNoise', hidden_dims=[75,75,75])\n",
    "with open('cs231n/datasets/means_stds_3x75layer_50epochs_2x2_fullPixel_LowNoise.txt', 'w') as f1:\n",
    "    np.savez(f1,means=meansLowNoise, stds = stdsLowNoise, centroid_error = centroid_errorLowNoise, NN_error = NN_errorLowNoise)\n",
    "    f1.close()\n",
    "\n",
    "Training_Dict3 = {}\n",
    "with open('cs231n/datasets/twofullPixelMediumNoiseData.txt', 'rb') as f1:\n",
    "    data = np.load(f1)\n",
    "    Training_Dict3['X'] = data['X']\n",
    "    Training_Dict3['y'] = data['y']\n",
    "    Training_Dict3['c'] = data['c']\n",
    "    f1.close()\n",
    "meansMediumNoise, stdsMediumNoise, centroid_errorMediumNoise, NN_errorMediumNoise  =runDataMultipleSamples(Training_Dict3, SNR=10, fersnelNumber=2.0,numPoints = 50, iterations = 7,message='fullPixelMediumNoise', hidden_dims=[75,75,75])\n",
    "with open('cs231n/datasets/means_stds_3x75layer_50epochs_2x2_fullPixel_MediumNoise.txt', 'w') as f1:\n",
    "    np.savez(f1,means=meansMediumNoise, stds = stdsMediumNoise, centroid_error = centroid_errorMediumNoise, NN_error = NN_errorMediumNoise)\n",
    "    f1.close()\n",
    "    \n",
    "Training_Dict4 = {}\n",
    "with open('cs231n/datasets/twofullPixelHighNoiseData.txt', 'rb') as f1:\n",
    "    data = np.load(f1)\n",
    "    Training_Dict4['X'] = data['X']\n",
    "    Training_Dict4['y'] = data['y']\n",
    "    Training_Dict4['c'] = data['c']\n",
    "    f1.close()\n",
    "meansHighNoise, stdsHighNoise, centroid_errorHighNoise, NN_errorHighNoise = runDataMultipleSamples(Training_Dict4, SNR=5, fersnelNumber=2.0,numPoints = 50, iterations = 7,message='fullPixelHighNoise', hidden_dims=[75,75,75])\n",
    "with open('cs231n/datasets/means_stds_3x75layer_50epochs_2x2_fullPixel_HighNoise.txt', 'w') as f1:\n",
    "    np.savez(f1,means=meansHighNoise, stds = stdsHighNoise, centroid_error = centroid_errorHighNoise, NN_error = NN_errorHighNoise)\n",
    "    f1.close()"
   ]
  },
  {
   "cell_type": "code",
   "execution_count": null,
   "metadata": {
    "collapsed": false
   },
   "outputs": [],
   "source": [
    "Training_Dict5 = {}\n",
    "with open('cs231n/datasets/fullPixelHighNoiseData.txt', 'rb') as f1:\n",
    "    data = np.load(f1)\n",
    "    Training_Dict5['X'] = data['X']\n",
    "    Training_Dict5['y'] = data['y']\n",
    "    Training_Dict5['c'] = data['c']\n",
    "    f1.close()\n",
    "differencesHighNoise = runDataMultipleSamples(Training_Dict5, SNR=5, numPoints = 1024, iterations = 7,message='fullPixelHighNoise', hidden_dims=[150,150,150])\n",
    "    \n",
    "Training_Dict6 = {}\n",
    "with open('cs231n/datasets/fullPixelNoNoiseData.txt', 'rb') as f1:\n",
    "    data = np.load(f1)\n",
    "    Training_Dict6['X'] = data['X']\n",
    "    Training_Dict6['y'] = data['y']\n",
    "    Training_Dict6['c'] = data['c']\n",
    "    f1.close()\n",
    "differencesNoNoise = runDataMultipleSamples(Training_Dict6, numPoints = 1024, iterations = 7,message='fullPixelNoNoise', hidden_dims=[150,150,150])\n",
    "\n",
    "with open('cs231n/datasets/differences.txt', 'w') as f1:\n",
    "    np.savez(f1,differencesHighNoise=differencesHighNoise, differencesNoNoise = differencesNoNoise)\n",
    "    f1.close()"
   ]
  },
  {
   "cell_type": "code",
   "execution_count": 164,
   "metadata": {
    "collapsed": false
   },
   "outputs": [],
   "source": [
    "def runDataMultipleSamples(Training_Dict, val=None, SNR=None, fersnelNumber=4.0, numPoints = 50, iterations = 7, message='', hidden_dims=[20]):\n",
    "    print message\n",
    "    tr = Training_Dict\n",
    "    buckets = np.zeros((2,iterations,numPoints,2))\n",
    "    means = np.zeros((2,numPoints,2))\n",
    "    stds = np.zeros((2,numPoints,2))\n",
    "    #val = generateValidationData(n=numPoints,SNR=SNR,fersnelNumber=fersnelNumber)\n",
    "    for i in xrange(iterations):\n",
    "        print i\n",
    "        val = generateValidationData(n=numPoints,SNR=SNR,fersnelNumber=fersnelNumber)\n",
    "\n",
    "        small = {\n",
    "            'X_train': tr['X']/np.max(tr['X']),\n",
    "            'y_train': tr['y'],\n",
    "            'c_train': tr['c'],\n",
    "            'X_val': val['X']/np.max(tr['X']),\n",
    "            'y_val': val['y'],\n",
    "            'c_val': val['c'],\n",
    "        }\n",
    "\n",
    "        input_dim=small['X_train'].shape[1]*small['X_train'].shape[2]\n",
    "        weight_scale = 1e-2\n",
    "        model = FullyConnectedNet(hidden_dims, input_dim=input_dim, weight_scale=weight_scale, reg=.0001,num_classes=2, use_batchnorm=True)\n",
    "\n",
    "        solver = Solver(model,small,\n",
    "                        num_epochs=50, batch_size=64,\n",
    "                        update_rule='adam',\n",
    "                        optim_config={\n",
    "                          'learning_rate': 1e-2,\n",
    "                        },\n",
    "                        verbose=False, print_every=100000,\n",
    "                       lr_decay=.99)\n",
    "        #solver.train()\n",
    "        buckets[0,i,:,:] = solver.train()\n",
    "        buckets[1,i,:,:] = val['c']\n",
    "    means = np.mean(buckets,axis=1)\n",
    "    stds = np.std(buckets,axis=1)  \n",
    "\n",
    "    #val = generateValidationData(n=numPoints,SNR=SNR,fersnelNumber=fersnelNumber)    \n",
    "    N = val['X'].shape[0]\n",
    "    centroid_error = .5*np.sum((means[1,:,:]-val['y'])**2) / N\n",
    "    NN_error = .5*np.sum((means[0,:,:]-val['y'])**2) / N\n",
    "    print \"Centroid L-2 Average Validation Error: \", centroid_error\n",
    "    print \"NN Average Validation Error: \", NN_error\n",
    "    \n",
    "    # Plot of Centroid Estimation values\n",
    "    #x = np.linspace(-.5,.5,numPoints)\n",
    "    x = means[1,:,0]\n",
    "    y = means[1,:,1]\n",
    "    e = stds[1,:,1]\n",
    "    #plt.errorbar(x,y,e,linestyle='None',marker='*')\n",
    "    plt.errorbar(np.linspace(-.5,.5,numPoints),y,e,linestyle='None',marker='*')\n",
    "    plt.plot(np.linspace(-.5,.5,numPoints),np.linspace(-.5,.5,numPoints),'-')\n",
    "    #plt.plot(np.linspace(0,.375,numPoints),np.linspace(.125,.5,numPoints),'+')\n",
    "    plt.ylabel('Estimated Centroid Location')\n",
    "    plt.xlabel('Actual Centroid Location: y-values only')\n",
    "    plt.show()\n",
    "    \n",
    "    # Plot of Neural Network values\n",
    "    #x = np.linspace(-.5,.5,numPoints)\n",
    "    x = means[0,:,0]\n",
    "    y = means[0,:,1]\n",
    "    e = stds[0,:,1]\n",
    "    #plt.errorbar(x,y,e,linestyle='None',marker='*')\n",
    "    plt.errorbar(np.linspace(-.5,.5,numPoints),y,e,linestyle='None',marker='*')\n",
    "    plt.plot(np.linspace(-.5,.5,numPoints),np.linspace(-.5,.5,numPoints),'-')\n",
    "    #plt.plot(np.linspace(0,.375,numPoints),np.linspace(.125,.5,numPoints),'+')\n",
    "    plt.ylabel('Estimated NN Location')\n",
    "    plt.xlabel('Actual Centroid Location: y-values only')\n",
    "    plt.show()\n",
    "    return means, stds, centroid_error, NN_error\n",
    "    \n",
    "    # Color map for showing differences in errors\n",
    "    #L2_NN_errors = np.sqrt(np.sum(((means[0,:,:]-val['y'])**2), axis=1))\n",
    "    #L2_centroid_errors = np.sqrt(np.sum(((means[1,:,:]-val['y'])**2), axis=1))\n",
    "    #differences = L2_centroid_errors - L2_NN_errors\n",
    "    #differences = differences.reshape(np.sqrt(numPoints),np.sqrt(numPoints))\n",
    "    #fig = plt.figure()\n",
    "    #ax = fig.add_subplot(111)\n",
    "    #p = ax.contourf(np.linspace(-.5,.5,num=32), np.linspace(-.5,.5,num=32), differences)\n",
    "    #fig.colorbar(p)\n",
    "    #return differences"
   ]
  },
  {
   "cell_type": "code",
   "execution_count": null,
   "metadata": {
    "collapsed": true
   },
   "outputs": [],
   "source": [
    "plt.subplot(3, 1, 1)\n",
    "plt.title('Training loss')\n",
    "plt.xlabel('Iteration')\n",
    "\n",
    "plt.subplot(3, 1, 2)\n",
    "plt.title('Training accuracy')\n",
    "plt.xlabel('Epoch')\n",
    "\n",
    "plt.subplot(3, 1, 3)\n",
    "plt.title('Validation accuracy')\n",
    "plt.xlabel('Epoch')\n",
    "\n",
    "plt.subplot(3, 1, 1)\n",
    "plt.plot(solver.loss_history, 'o', label='baseline')\n",
    "\n",
    "plt.subplot(3, 1, 2)\n",
    "plt.plot(solver.train_acc_history, '-o', label='baseline')\n",
    "\n",
    "plt.subplot(3, 1, 3)\n",
    "plt.plot(solver.val_acc_history, '-o', label='baseline')\n",
    "  \n",
    "for i in [1, 2, 3]:\n",
    "  plt.subplot(3, 1, i)\n",
    "  plt.legend(loc='upper center', ncol=4)\n",
    "plt.gcf().set_size_inches(15, 15)\n",
    "plt.show()\n",
    "\n",
    "# Centroids\n",
    "fig,ax = plt.subplots()\n",
    "ax.set_title('Conventional Centroid Estimator')\n",
    "fig.suptitle('Case 1: Full Width, No Noise')\n",
    "plt.ylabel('Estimated Centroid Location')\n",
    "plt.xlabel('Actual Centroid Location')\n",
    "plt.text(.3,-.3,'Fill this in')\n",
    "values = solver.model.loss(small['X_val']) #X[start:end]\n",
    "ax.plot(val['y'][:,0],val['y'][:,1],'-',np.linspace(-.5,.5,50),val['c'][:,1],'*', np.linspace(-.5,.5,50),values[:,1],'+')\n",
    "ax.locator_params(tight=True)\n",
    "plt.show()\n",
    "\n",
    "# Neural Network\n",
    "#fig,ax = plt.subplots()\n",
    "#ax.set_title('Neural Network')\n",
    "#fig.suptitle('Case 1: Full Width, No Noise')\n",
    "#plt.ylabel('Estimated Centroid Location')\n",
    "#plt.xlabel('Actual Centroid Location')\n",
    "#plt.text(.3,-.3,'Fill this in')\n",
    "#values = solver.model.loss(small['X_val'])\n",
    "#ax.plot(val['y'][:,0],val['y'][:,1],'-',np.linspace(-.5,.5,50),values[:,1],'*')\n",
    "#ax.locator_params(tight=True)\n",
    "#plt.show()"
   ]
  },
  {
   "cell_type": "code",
   "execution_count": null,
   "metadata": {
    "collapsed": false
   },
   "outputs": [],
   "source": [
    "#data_train = generateData(100000)\n",
    "#print \"training data done\"\n",
    "#data_val = generateData(4096)\n",
    "\n",
    "N = data_val['X'].shape[0]\n",
    "print \"Centroid L-2 Average Loss: \", .5*np.sum((data_val['c']-data_val['y'])**2) / N\n",
    "\n",
    "\n",
    "#small_data = {\n",
    "#  'X_train': data_train['X']*1e7,\n",
    "#  'y_train': data_train['y'],\n",
    "#  'X_val': data_val['X']*1e7,\n",
    "#  'y_val': data_val['y'],\n",
    "#}\n",
    "\n",
    "input_dim=data_train['X'].shape[1]*data_train['X'].shape[2]\n",
    "weight_scale = 1e-2\n",
    "\n",
    "print \"[20]\"\n",
    "hidden_dims = [20]\n",
    "model20 = FullyConnectedNet(hidden_dims, input_dim=input_dim, weight_scale=weight_scale, reg=.00001,num_classes=2, use_batchnorm=True)\n",
    "solver20 = Solver(model20, small_data,\n",
    "                num_epochs=150, batch_size=32,\n",
    "                update_rule='adam',\n",
    "                optim_config={\n",
    "                  'learning_rate': 1e-2,\n",
    "                },\n",
    "                verbose=False, print_every=200,\n",
    "               lr_decay=.92)\n",
    "solver20.train()\n",
    "print \"Final training loss: \", solver20.loss_history[-1]\n",
    "print \"Final training acc: \", solver20.train_acc_history[-1]\n",
    "print \"Final validation error: \", solver20.val_acc_history[-1]\n",
    "\n",
    "print \"[50,50,50]\"\n",
    "hidden_dims = [50,50,50]\n",
    "model505050 = FullyConnectedNet(hidden_dims, input_dim=input_dim, weight_scale=weight_scale, reg=.00001,num_classes=2, use_batchnorm=True)\n",
    "solver505050 = Solver(model505050, small_data,\n",
    "                num_epochs=150, batch_size=32,\n",
    "                update_rule='adam',\n",
    "                optim_config={\n",
    "                  'learning_rate': 1e-2,\n",
    "                },\n",
    "                verbose=False, print_every=200,\n",
    "               lr_decay=.92)\n",
    "solver505050.train()\n",
    "print \"Final training loss: \", solver505050.loss_history[-1]\n",
    "print \"Final training acc: \", solver505050.train_acc_history[-1]\n",
    "print \"Final validation error: \", solver505050.val_acc_history[-1]\n",
    "\n",
    "print \"[70,70,70]\"\n",
    "hidden_dims = [70,70,70]\n",
    "model707070 = FullyConnectedNet(hidden_dims, input_dim=input_dim, weight_scale=weight_scale, reg=.00001,num_classes=2, use_batchnorm=True)\n",
    "solver707070 = Solver(model707070, small_data,\n",
    "                num_epochs=150, batch_size=32,\n",
    "                update_rule='adam',\n",
    "                optim_config={\n",
    "                  'learning_rate': 1e-2,\n",
    "                },\n",
    "                verbose=False, print_every=200,\n",
    "               lr_decay=.92)\n",
    "solver707070.train()\n",
    "print \"Final training loss: \", solver707070.loss_history[-1]\n",
    "print \"Final training acc: \", solver707070.train_acc_history[-1]\n",
    "print \"Final validation error: \", solver707070.val_acc_history[-1]\n",
    "\n",
    "print \"[120,120,120]\"\n",
    "hidden_dims = [120,120,120]\n",
    "model120120120 = FullyConnectedNet(hidden_dims, input_dim=input_dim, weight_scale=weight_scale, reg=.00001,num_classes=2, use_batchnorm=True)\n",
    "solver120120120 = Solver(model120120120, small_data,\n",
    "                num_epochs=150, batch_size=32,\n",
    "                update_rule='adam',\n",
    "                optim_config={\n",
    "                  'learning_rate': 1e-2,\n",
    "                },\n",
    "                verbose=False, print_every=200,\n",
    "               lr_decay=.92)\n",
    "solver120120120.train()\n",
    "print \"Final training loss: \", solver120120120.loss_history[-1]\n",
    "print \"Final training acc: \", solver120120120.train_acc_history[-1]\n",
    "print \"Final validation error: \", solver120120120.val_acc_history[-1]\n",
    "\n",
    "print \"[50,50,50,50]\"\n",
    "hidden_dims = [50,50,50,50]\n",
    "model50505050 = FullyConnectedNet(hidden_dims, input_dim=input_dim, weight_scale=weight_scale, reg=.00001,num_classes=2, use_batchnorm=True)\n",
    "solver50505050 = Solver(model50505050, small_data,\n",
    "                num_epochs=150, batch_size=32,\n",
    "                update_rule='adam',\n",
    "                optim_config={\n",
    "                  'learning_rate': 1e-2,\n",
    "                },\n",
    "                verbose=False, print_every=200,\n",
    "               lr_decay=.92)\n",
    "solver50505050.train()\n",
    "print \"Final training loss: \", solver50505050.loss_history[-1]\n",
    "print \"Final training acc: \", solver50505050.train_acc_history[-1]\n",
    "print \"Final validation error: \", solver50505050.val_acc_history[-1]\n",
    "\n",
    "print \"[70,70,70,70]\"\n",
    "hidden_dims = [70,70,70,70]\n",
    "model70707070 = FullyConnectedNet(hidden_dims, input_dim=input_dim, weight_scale=weight_scale, reg=.00001,num_classes=2, use_batchnorm=True)\n",
    "solver70707070 = Solver(model70707070, small_data,\n",
    "                num_epochs=150, batch_size=32,\n",
    "                update_rule='adam',\n",
    "                optim_config={\n",
    "                  'learning_rate': 1e-2,\n",
    "                },\n",
    "                verbose=False, print_every=200,\n",
    "               lr_decay=.92)\n",
    "solver70707070.train()\n",
    "print \"Final training loss: \", solver70707070.loss_history[-1]\n",
    "print \"Final training acc: \", solver70707070.train_acc_history[-1]\n",
    "print \"Final validation error: \", solver70707070.val_acc_history[-1]\n",
    "\n",
    "print \"[120,120,120,120]\"\n",
    "hidden_dims = [120,120,120,120]\n",
    "model120120120120 = FullyConnectedNet(hidden_dims, input_dim=input_dim, weight_scale=weight_scale, reg=.00001,num_classes=2, use_batchnorm=True)\n",
    "solver120120120120 = Solver(model120120120120, small_data,\n",
    "                num_epochs=150, batch_size=32,\n",
    "                update_rule='adam',\n",
    "                optim_config={\n",
    "                  'learning_rate': 1e-2,\n",
    "                },\n",
    "                verbose=False, print_every=200,\n",
    "               lr_decay=.92)\n",
    "solver120120120120.train()\n",
    "print \"Final training loss: \", solver120120120120.loss_history[-1]\n",
    "print \"Final training acc: \", solver120120120120.train_acc_history[-1]\n",
    "print \"Final validation error: \", solver120120120120.val_acc_history[-1]\n",
    "\n",
    "print \"[70,70,70,70].90\"\n",
    "hidden_dims = [70,70,70,70]\n",
    "model47095 = FullyConnectedNet(hidden_dims, input_dim=input_dim, weight_scale=weight_scale, reg=.00001,num_classes=2, use_batchnorm=True)\n",
    "solver47095 = Solver(model47095, small_data,\n",
    "                num_epochs=150, batch_size=32,\n",
    "                update_rule='adam',\n",
    "                optim_config={\n",
    "                  'learning_rate': 1e-2,\n",
    "                },\n",
    "                verbose=False, print_every=200,\n",
    "               lr_decay=.90)\n",
    "solver47095.train()\n",
    "print \"Final training loss: \", solver47095.loss_history[-1]\n",
    "print \"Final training acc: \", solver47095.train_acc_history[-1]\n",
    "print \"Final validation error: \", solver47095.val_acc_history[-1]\n",
    "\n",
    "print \"[70,70,70,70].95\"\n",
    "hidden_dims = [70,70,70,70]\n",
    "model47099 = FullyConnectedNet(hidden_dims, input_dim=input_dim, weight_scale=weight_scale, reg=.00001,num_classes=2, use_batchnorm=True)\n",
    "solver47099 = Solver(model47099, small_data,\n",
    "                num_epochs=150, batch_size=32,\n",
    "                update_rule='adam',\n",
    "                optim_config={\n",
    "                  'learning_rate': 1e-2,\n",
    "                },\n",
    "                verbose=False, print_every=200,\n",
    "               lr_decay=.95)\n",
    "solver47099.train()\n",
    "print \"Final training loss: \", solver47099.loss_history[-1]\n",
    "print \"Final training acc: \", solver47099.train_acc_history[-1]\n",
    "print \"Final validation error: \", solver47099.val_acc_history[-1]\n",
    "\n",
    "#######################\n",
    "#pixelSize      = .5*1e-3; # meters\n",
    "#data_train8 = generateData(100000)\n",
    "#print \"training data done\"\n",
    "#data_val8 = generateData(4096)\n",
    "\n",
    "N = data_val8['X'].shape[0]\n",
    "print \"Centroid L-2 Average Loss: \", .5*np.sum((data_val8['c']-data_val8['y'])**2) / N\n",
    "\n",
    "\n",
    "#small_data8 = {\n",
    "#  'X_train': data_train8['X']*1e7,\n",
    "#  'y_train': data_train8['y'],\n",
    "#  'X_val': data_val8['X']*1e7,\n",
    "#  'y_val': data_val8['y'],\n",
    "#}\n",
    "\n",
    "input_dim=data_train8['X'].shape[1]*data_train8['X'].shape[2]\n",
    "weight_scale = 1e-2\n",
    "\n",
    "print \"[20]\"\n",
    "hidden_dims = [20]\n",
    "model208 = FullyConnectedNet(hidden_dims, input_dim=input_dim, weight_scale=weight_scale, reg=.00001,num_classes=2, use_batchnorm=True)\n",
    "solver208 = Solver(model208, small_data8,\n",
    "                num_epochs=150, batch_size=32,\n",
    "                update_rule='adam',\n",
    "                optim_config={\n",
    "                  'learning_rate': 1e-2,\n",
    "                },\n",
    "                verbose=False, print_every=200,\n",
    "               lr_decay=.92)\n",
    "solver208.train()\n",
    "print \"Final training loss: \", solver208.loss_history[-1]\n",
    "print \"Final training acc: \", solver208.train_acc_history[-1]\n",
    "print \"Final validation error: \", solver208.val_acc_history[-1]\n",
    "\n",
    "print \"[50,50,50]\"\n",
    "hidden_dims = [50,50,50]\n",
    "model5050508 = FullyConnectedNet(hidden_dims, input_dim=input_dim, weight_scale=weight_scale, reg=.00001,num_classes=2, use_batchnorm=True)\n",
    "solver5050508 = Solver(model5050508, small_data8,\n",
    "                num_epochs=150, batch_size=32,\n",
    "                update_rule='adam',\n",
    "                optim_config={\n",
    "                  'learning_rate': 1e-2,\n",
    "                },\n",
    "                verbose=False, print_every=200,\n",
    "               lr_decay=.92)\n",
    "solver5050508.train()\n",
    "print \"Final training loss: \", solver5050508.loss_history[-1]\n",
    "print \"Final training acc: \", solver5050508.train_acc_history[-1]\n",
    "print \"Final validation error: \", solver5050508.val_acc_history[-1]\n",
    "\n",
    "print \"[70,70,70]\"\n",
    "hidden_dims = [70,70,70]\n",
    "model7070708 = FullyConnectedNet(hidden_dims, input_dim=input_dim, weight_scale=weight_scale, reg=.00001,num_classes=2, use_batchnorm=True)\n",
    "solver7070708 = Solver(model7070708, small_data8,\n",
    "                num_epochs=150, batch_size=32,\n",
    "                update_rule='adam',\n",
    "                optim_config={\n",
    "                  'learning_rate': 1e-2,\n",
    "                },\n",
    "                verbose=False, print_every=200,\n",
    "               lr_decay=.92)\n",
    "solver7070708.train()\n",
    "print \"Final training loss: \", solver7070708.loss_history[-1]\n",
    "print \"Final training acc: \", solver7070708.train_acc_history[-1]\n",
    "print \"Final validation error: \", solver7070708.val_acc_history[-1]\n",
    "\n",
    "print \"[120,120,120]\"\n",
    "hidden_dims = [120,120,120]\n",
    "model1201201208 = FullyConnectedNet(hidden_dims, input_dim=input_dim, weight_scale=weight_scale, reg=.00001,num_classes=2, use_batchnorm=True)\n",
    "solver1201201208 = Solver(model1201201208, small_data8,\n",
    "                num_epochs=150, batch_size=32,\n",
    "                update_rule='adam',\n",
    "                optim_config={\n",
    "                  'learning_rate': 1e-2,\n",
    "                },\n",
    "                verbose=False, print_every=200,\n",
    "               lr_decay=.92)\n",
    "solver1201201208.train()\n",
    "print \"Final training loss: \", solver1201201208.loss_history[-1]\n",
    "print \"Final training acc: \", solver1201201208.train_acc_history[-1]\n",
    "print \"Final validation error: \", solver1201201208.val_acc_history[-1]\n",
    "\n",
    "print \"[50,50,50,50]\"\n",
    "hidden_dims = [50,50,50,50]\n",
    "model505050508 = FullyConnectedNet(hidden_dims, input_dim=input_dim, weight_scale=weight_scale, reg=.00001,num_classes=2, use_batchnorm=True)\n",
    "solver505050508 = Solver(model505050508, small_data8,\n",
    "                num_epochs=150, batch_size=32,\n",
    "                update_rule='adam',\n",
    "                optim_config={\n",
    "                  'learning_rate': 1e-2,\n",
    "                },\n",
    "                verbose=False, print_every=200,\n",
    "               lr_decay=.92)\n",
    "solver505050508.train()\n",
    "print \"Final training loss: \", solver505050508.loss_history[-1]\n",
    "print \"Final training acc: \", solver505050508.train_acc_history[-1]\n",
    "print \"Final validation error: \", solver505050508.val_acc_history[-1]\n",
    "\n",
    "print \"[70,70,70,70]\"\n",
    "hidden_dims = [70,70,70,70]\n",
    "model707070708 = FullyConnectedNet(hidden_dims, input_dim=input_dim, weight_scale=weight_scale, reg=.00001,num_classes=2, use_batchnorm=True)\n",
    "solver707070708 = Solver(model707070708, small_data8,\n",
    "                num_epochs=150, batch_size=32,\n",
    "                update_rule='adam',\n",
    "                optim_config={\n",
    "                  'learning_rate': 1e-2,\n",
    "                },\n",
    "                verbose=False, print_every=200,\n",
    "               lr_decay=.92)\n",
    "solver707070708.train()\n",
    "print \"Final training loss: \", solver707070708.loss_history[-1]\n",
    "print \"Final training acc: \", solver707070708.train_acc_history[-1]\n",
    "print \"Final validation error: \", solver707070708.val_acc_history[-1]\n",
    "\n",
    "print \"[120,120,120,120]\"\n",
    "hidden_dims = [120,120,120,120]\n",
    "model1201201201208 = FullyConnectedNet(hidden_dims, input_dim=input_dim, weight_scale=weight_scale, reg=.00001,num_classes=2, use_batchnorm=True)\n",
    "solver1201201201208 = Solver(model1201201201208, small_data8,\n",
    "                num_epochs=150, batch_size=32,\n",
    "                update_rule='adam',\n",
    "                optim_config={\n",
    "                  'learning_rate': 1e-2,\n",
    "                },\n",
    "                verbose=False, print_every=200,\n",
    "               lr_decay=.92)\n",
    "solver1201201201208.train()\n",
    "print \"Final training loss: \", solver1201201201208.loss_history[-1]\n",
    "print \"Final training acc: \", solver1201201201208.train_acc_history[-1]\n",
    "print \"Final validation error: \", solver1201201201208.val_acc_history[-1]\n",
    "\n",
    "print \"[70,70,70,70].95\"\n",
    "hidden_dims = [70,70,70,70]\n",
    "model470958 = FullyConnectedNet(hidden_dims, input_dim=input_dim, weight_scale=weight_scale, reg=.00001,num_classes=2, use_batchnorm=True)\n",
    "solver470958 = Solver(model470958, small_data8,\n",
    "                num_epochs=150, batch_size=32,\n",
    "                update_rule='adam',\n",
    "                optim_config={\n",
    "                  'learning_rate': 1e-2,\n",
    "                },\n",
    "                verbose=False, print_every=200,\n",
    "               lr_decay=.95)\n",
    "solver470958.train()\n",
    "print \"Final training loss: \", solver470958.loss_history[-1]\n",
    "print \"Final training acc: \", solver470958.train_acc_history[-1]\n",
    "print \"Final validation error: \", solver470958.val_acc_history[-1]\n",
    "\n",
    "print \"[70,70,70,70].90\"\n",
    "hidden_dims = [70,70,70,70]\n",
    "model470998 = FullyConnectedNet(hidden_dims, input_dim=input_dim, weight_scale=weight_scale, reg=.00001,num_classes=2, use_batchnorm=True)\n",
    "solver470998 = Solver(model470998, small_data8,\n",
    "                num_epochs=150, batch_size=32,\n",
    "                update_rule='adam',\n",
    "                optim_config={\n",
    "                  'learning_rate': 1e-2,\n",
    "                },\n",
    "                verbose=False, print_every=200,\n",
    "               lr_decay=.90)\n",
    "solver470998.train()\n",
    "print \"Final training loss: \", solver470998.loss_history[-1]\n",
    "print \"Final training acc: \", solver470998.train_acc_history[-1]\n",
    "print \"Final validation error: \", solver470998.val_acc_history[-1]"
   ]
  },
  {
   "cell_type": "code",
   "execution_count": null,
   "metadata": {
    "collapsed": true
   },
   "outputs": [],
   "source": [
    "def fiftyByFiftyApertureData(n=50):\n",
    "    data = {}\n",
    "    data['X'] = np.zeros((n,n,numberOfPixels,numberOfPixels))\n",
    "    data['y'] = np.zeros((n,n,2))\n",
    "    \n",
    "    for i in xrange(n*n):\n",
    "        # Could also make y-values the xTilt and yTilt\n",
    "        xTilt = -.5*np.random.uniform(-1.0,1.0)#np.sin(theta)*np.cos(phi)\n",
    "        yTilt = -.5*np.random.uniform(-1.0,1.0)#np.sin(theta)*np.sin(phi)\n",
    "        data['y'][i,0] = -ratio2*xTilt\n",
    "        data['y'][i,1] = -ratio2*yTilt\n",
    "        pixelPointsXMesh, pixelPointsYMesh = np.meshgrid(pixelPoints,pixelPoints)\n",
    "        scatterPixelPointsX = np.reshape(pixelPointsXMesh,(1,np.size(pixelPointsXMesh)))\n",
    "        scatterPixelPointsY = np.reshape(pixelPointsYMesh,(1,np.size(pixelPointsYMesh)))\n",
    "        Fx = np.sinc(fersnelNumber*(focalPlaneMeshX + ratio2*xTilt))\n",
    "        #plt.plot(spaceDimensionPoints,Fx**2.0)\n",
    "        Fy = np.sinc(fersnelNumber*(focalPlaneMeshY + ratio2*yTilt))\n",
    "        irradiance = vacuumPermittivity*speedOfLight*(amplitudeOfLight**2.0) * (Fx**2.0) * (Fy**2.0)\n",
    "        pixelBlocks = np.zeros((numberOfPixels,numberOfPixels,pointsPerPixel,pointsPerPixel))\n",
    "\n",
    "        meshXBlocks = np.zeros((numberOfPixels,numberOfPixels,pointsPerPixel,pointsPerPixel))\n",
    "        meshYBlocks = np.zeros((numberOfPixels,numberOfPixels,pointsPerPixel,pointsPerPixel))\n",
    "        integrals    = np.zeros([numberOfPixels,numberOfPixels])\n",
    "\n",
    "        for indexPixel1 in range(0,numberOfPixels):\n",
    "            for indexPixel2 in range(0,numberOfPixels):\n",
    "                for indexPoint1 in range(0,pointsPerPixel):\n",
    "                    for indexPoint2 in range(0,pointsPerPixel):\n",
    "                        pixelBlocks[indexPixel1,indexPixel2,indexPoint1,indexPoint2] = irradiance[indexPixel1*(pointsPerPixel-1) + indexPoint1\n",
    "                                                                                                ,indexPixel2*(pointsPerPixel-1) + indexPoint2]\n",
    "                        meshXBlocks[indexPixel1,indexPixel2,indexPoint1,indexPoint2] = focalPlaneMeshX[indexPixel1*(pointsPerPixel-1) + indexPoint1\n",
    "                                                                                                ,indexPixel2*(pointsPerPixel-1) + indexPoint2]\n",
    "                        meshYBlocks[indexPixel1,indexPixel2,indexPoint1,indexPoint2] = focalPlaneMeshY[indexPixel1*(pointsPerPixel-1) + indexPoint1\n",
    "                                                                                                ,indexPixel2*(pointsPerPixel-1) + indexPoint2]\n",
    "        \n",
    "                        x = meshXBlocks[indexPixel1,indexPixel2,0,:]\n",
    "                        y = meshYBlocks[indexPixel1,indexPixel2,:,0]\n",
    "        \n",
    "                        integrals[indexPixel1,indexPixel2] = simps(simps(pixelBlocks[indexPixel1,indexPixel2,:,:], y), x)\n",
    "                        # ADD Low NOISE\n",
    "                        #integrals[indexPixel1,indexPixel2] += 1e-6*np.random.normal()*1/10\n",
    "                        # ADD High NOISE\n",
    "                        #integrals[indexPixel1,indexPixel2] += 1e-6*np.random.normal()*1/4\n",
    "        # Find centers of each cell and overall centroid\n",
    "        centerX, centerY = np.meshgrid(centerPoints,centerPoints)     \n",
    "        data['X'][i,:] = integrals\n",
    "        centerX = np.reshape(centerX,(1,np.size(centerX)))\n",
    "        centerY = np.reshape(centerY,(1,np.size(centerY)))\n",
    "        integrals = np.reshape(integrals,(1,np.size(integrals)))\n",
    "        meanX = np.sum(centerX*integrals)/np.sum(integrals)\n",
    "        meanY = np.sum(centerY*integrals)/np.sum(integrals)\n",
    "        centroid = [meanX, meanY]\n",
    "        centers = np.hstack((centerX.T,centerY.T))\n",
    "        data['c'][i,0] = meanX\n",
    "        data['c'][i,1] = meanY"
   ]
  },
  {
   "cell_type": "code",
   "execution_count": null,
   "metadata": {
    "collapsed": true
   },
   "outputs": [],
   "source": [
    "def sequenceApertureData(size = 50, sequenceLength = 100, numSequences=1000)\n",
    "    ddata['X'] = np.zeros((n,numberOfPixels,numberOfPixels))\n",
    "    data['y'] = np.zeros((n,2))ata = {}\n",
    "    "
   ]
  },
  {
   "cell_type": "code",
   "execution_count": null,
   "metadata": {
    "collapsed": true
   },
   "outputs": [],
   "source": [
    "# Normalizes Training Nx2d data\n",
    "def normalizeData(x)\n",
    "    data = x.copy()\n",
    "    mu = np.mean(data, axis=0)\n",
    "    var = np.var(data, axis = 0)\n",
    "    data /= np.max(np.abs(data)) # helps cases when 1e-5 is larger than data\n",
    "    data = (data - mu) / np.sqrt(var + 1e-5)\n",
    "    return data"
   ]
  },
  {
   "cell_type": "code",
   "execution_count": null,
   "metadata": {
    "collapsed": false
   },
   "outputs": [],
   "source": [
    "normalized_data = small_data.copy()\n",
    "mu = np.mean(normalized_data['X_train'], axis=0)\n",
    "var = np.var(normalized_data['X_train'], axis = 0)\n",
    "normalized_data['X_train'] = (normalized_data['X_train'] - mu) / np.sqrt(var + 1e-5)\n",
    "mu = np.mean(normalized_data['X_val'], axis=0)\n",
    "var = np.var(normalized_data['X_val'], axis = 0)\n",
    "normalized_data['X_val'] = (normalized_data['X_val'] - mu) / np.sqrt(var + 1e-5)\n",
    "\n",
    "N = data_val['X'].shape[0]\n",
    "print \"Centroid L-2 Average Loss: \", .5*np.sum((data_val['c']-data_val['y'])**2) / N\n",
    "\n",
    "\n",
    "input_dim=data_train['X'].shape[1]*data_train['X'].shape[2]\n",
    "weight_scale = 1e-3\n",
    "\n",
    "print \"[70,70,70,70]\"\n",
    "hidden_dims = [300,300,300,300]\n",
    "#model = FullyConnectedNet(hidden_dims, input_dim=input_dim, weight_scale=weight_scale, reg=.00001,num_classes=2, use_batchnorm=True)\n",
    "solver = Solver(model, normalized_data,\n",
    "                num_epochs=300, batch_size=512,\n",
    "                update_rule='adam',\n",
    "                optim_config={\n",
    "                  'learning_rate': 1e-6,\n",
    "                },\n",
    "                verbose=True, print_every=1000,\n",
    "               lr_decay=1)\n",
    "solver.train()\n",
    "print \"Final training loss: \", solver.loss_history[-1]\n",
    "print \"Final training acc: \", solver.train_acc_history[-1]\n",
    "print \"Final validation error: \", solver.val_acc_history[-1]"
   ]
  },
  {
   "cell_type": "code",
   "execution_count": null,
   "metadata": {
    "collapsed": false
   },
   "outputs": [],
   "source": [
    "print small_data['X_train'][18000,:,:]"
   ]
  },
  {
   "cell_type": "code",
   "execution_count": null,
   "metadata": {
    "collapsed": false
   },
   "outputs": [],
   "source": [
    "#np.fliplr(tep.T).T"
   ]
  },
  {
   "cell_type": "code",
   "execution_count": null,
   "metadata": {
    "collapsed": false
   },
   "outputs": [],
   "source": [
    "data_train = generateData(7500)\n",
    "print \"training data done\"\n",
    "data_val = generateData(512)"
   ]
  },
  {
   "cell_type": "code",
   "execution_count": null,
   "metadata": {
    "collapsed": false
   },
   "outputs": [],
   "source": [
    "#print data_train['X'].shape\n",
    "#print data_val['X'].shape"
   ]
  },
  {
   "cell_type": "code",
   "execution_count": null,
   "metadata": {
    "collapsed": false
   },
   "outputs": [],
   "source": [
    "#print \"X.shape :\", data_val['X'][2,:].shape\n",
    "print \"Tilts :\", data_val['y'][5,:]\n",
    "print \"Centroids :\", data_val['c'][5,:]\n",
    "print \"L-2 Sample Loss: \", np.sqrt(np.sum((data_val['c'][5,:]-data_val['y'][5,:])**2))\n",
    "N = data_val['X'].shape[0]\n",
    "print N\n",
    "print \"L-2 Average Loss: \", .5*np.sum((data_val['c']-data_val['y'])**2) / N"
   ]
  },
  {
   "cell_type": "code",
   "execution_count": null,
   "metadata": {
    "collapsed": true
   },
   "outputs": [],
   "source": []
  },
  {
   "cell_type": "code",
   "execution_count": null,
   "metadata": {
    "collapsed": false
   },
   "outputs": [],
   "source": [
    "# Peprocessing\n",
    "# Center data\n",
    "#mean_image = np.mean(data_train['X'], axis=0)\n",
    "#data_train['X'] -= mean_image\n",
    "#data_val['X'] -= mean_image\n",
    "#X_test -= mean_image"
   ]
  },
  {
   "cell_type": "code",
   "execution_count": null,
   "metadata": {
    "collapsed": false
   },
   "outputs": [],
   "source": [
    "# Try training a very deep net with batchnorm\n",
    "hidden_dims = [70,70,70,70]\n",
    "\n",
    "small_data = {\n",
    "  'X_train': data_train['X']*1e7,\n",
    "  'y_train': data_train['y'],\n",
    "  'X_val': data_val['X']*1e7,\n",
    "  'y_val': data_val['y'],\n",
    "}\n",
    "\n",
    "input_dim=data_train['X'].shape[1]*data_train['X'].shape[2]\n",
    "weight_scale = 1e-2\n",
    "model = FullyConnectedNet(hidden_dims, input_dim=input_dim, weight_scale=weight_scale, reg=.00001,num_classes=2, use_batchnorm=True)\n",
    "\n",
    "solver = Solver(model, small_data,\n",
    "                num_epochs=200, batch_size=32,\n",
    "                update_rule='adam',\n",
    "                optim_config={\n",
    "                  'learning_rate': 1e-2,\n",
    "                },\n",
    "                verbose=False, print_every=200,\n",
    "               lr_decay=.99)\n",
    "solver.train()"
   ]
  },
  {
   "cell_type": "code",
   "execution_count": null,
   "metadata": {
    "collapsed": false
   },
   "outputs": [],
   "source": [
    "print \"Final training loss: \", solver.loss_history[-1]\n",
    "print \"Final training acc: \", solver.train_acc_history[-1]\n",
    "print \"Final validation error: \", solver.val_acc_history[-1]"
   ]
  },
  {
   "cell_type": "code",
   "execution_count": null,
   "metadata": {
    "collapsed": false
   },
   "outputs": [],
   "source": [
    "# Try training a very deep net with batchnorm\n",
    "print \"[70,70,70]\"\n",
    "hidden_dims = [70,70,70]\n",
    "small_data = {\n",
    "  'X_train': data_train['X'],\n",
    "  'y_train': data_train['y'],\n",
    "  'X_val': data_val['X'],\n",
    "  'y_val': data_val['y'],\n",
    "}\n",
    "model = FullyConnectedNet(hidden_dims, input_dim=input_dim, weight_scale=weight_scale, reg=.00001,num_classes=2, use_batchnorm=True)\n",
    "solver = Solver(model, small_data,\n",
    "                num_epochs=300, batch_size=32,\n",
    "                update_rule='adam',\n",
    "                optim_config={\n",
    "                  'learning_rate': 1e-2,\n",
    "                },\n",
    "                verbose=False, print_every=200,\n",
    "               lr_decay=.95)\n",
    "solver.train()\n",
    "print \"Final training loss: \", solver.loss_history[-1]\n",
    "print \"Final training acc: \", solver.train_acc_history[-1]\n",
    "print \"Final validation error: \", solver.val_acc_history[-1]\n",
    "\n",
    "print \"[100,100,100]\"\n",
    "hidden_dims = [100,100,100]\n",
    "model = FullyConnectedNet(hidden_dims, input_dim=input_dim, weight_scale=weight_scale, reg=.00001,num_classes=2, use_batchnorm=True)\n",
    "solver = Solver(model, small_data,\n",
    "                num_epochs=300, batch_size=32,\n",
    "                update_rule='adam',\n",
    "                optim_config={\n",
    "                  'learning_rate': 1e-2,\n",
    "                },\n",
    "                verbose=False, print_every=200,\n",
    "               lr_decay=.95)\n",
    "solver.train()\n",
    "print \"Final training loss: \", solver.loss_history[-1]\n",
    "print \"Final training acc: \", solver.train_acc_history[-1]\n",
    "print \"Final validation error: \", solver.val_acc_history[-1]\n",
    "\n",
    "print \"[40,40,40,40]\"\n",
    "hidden_dims = [40,40,40,40]\n",
    "model = FullyConnectedNet(hidden_dims, input_dim=input_dim, weight_scale=weight_scale, reg=.00001,num_classes=2, use_batchnorm=True)\n",
    "solver = Solver(model, small_data,\n",
    "                num_epochs=300, batch_size=32,\n",
    "                update_rule='adam',\n",
    "                optim_config={\n",
    "                  'learning_rate': 1e-2,\n",
    "                },\n",
    "                verbose=False, print_every=200,\n",
    "               lr_decay=.95)\n",
    "solver.train()\n",
    "print \"Final training loss: \", solver.loss_history[-1]\n",
    "print \"Final training acc: \", solver.train_acc_history[-1]\n",
    "print \"Final validation error: \", solver.val_acc_history[-1]\n",
    "\n",
    "print \"[40,40,40,40]\"\n",
    "hidden_dims = [50,50,50,50]\n",
    "model = FullyConnectedNet(hidden_dims, input_dim=input_dim, weight_scale=weight_scale, reg=.00001,num_classes=2, use_batchnorm=True)\n",
    "solver = Solver(model, small_data,\n",
    "                num_epochs=100, batch_size=32,\n",
    "                update_rule='adam',\n",
    "                optim_config={\n",
    "                  'learning_rate': 1e-2,\n",
    "                },\n",
    "                verbose=False, print_every=200,\n",
    "               lr_decay=.95)\n",
    "solver.train()\n",
    "print \"Final training loss: \", solver.loss_history[-1]\n",
    "print \"Final training acc: \", solver.train_acc_history[-1]\n",
    "print \"Final validation error: \", solver.val_acc_history[-1]\n",
    "\n",
    "print \"[70,70,70,70]\"\n",
    "hidden_dims = [70,70,70,70]\n",
    "model = FullyConnectedNet(hidden_dims, input_dim=input_dim, weight_scale=weight_scale, reg=.00001,num_classes=2, use_batchnorm=True)\n",
    "solver = Solver(model, small_data,\n",
    "                num_epochs=300, batch_size=32,\n",
    "                update_rule='adam',\n",
    "                optim_config={\n",
    "                  'learning_rate': 1e-2,\n",
    "                },\n",
    "                verbose=False, print_every=200,\n",
    "               lr_decay=.95)\n",
    "solver.train()\n",
    "print \"Final training loss: \", solver.loss_history[-1]\n",
    "print \"Final training acc: \", solver.train_acc_history[-1]\n",
    "print \"Final validation error: \", solver.val_acc_history[-1]\n",
    "\n",
    "print \"[70,70,70,70]*1000\"\n",
    "hidden_dims = [70,70,70,70]\n",
    "model = FullyConnectedNet(hidden_dims, input_dim=input_dim, weight_scale=weight_scale, reg=.00001,num_classes=2, use_batchnorm=True)\n",
    "solver = Solver(model, small_data,\n",
    "                num_epochs=1000, batch_size=32,\n",
    "                update_rule='adam',\n",
    "                optim_config={\n",
    "                  'learning_rate': 1e-2,\n",
    "                },\n",
    "                verbose=False, print_every=200,\n",
    "               lr_decay=.95)\n",
    "solver.train()\n",
    "print \"Final training loss: \", solver.loss_history[-1]\n",
    "print \"Final training acc: \", solver.train_acc_history[-1]\n",
    "print \"Final validation error: \", solver.val_acc_history[-1]\n"
   ]
  },
  {
   "cell_type": "code",
   "execution_count": null,
   "metadata": {
    "collapsed": false
   },
   "outputs": [],
   "source": [
    "solver = Solver(model, small_data,\n",
    "                num_epochs=5, batch_size=32,\n",
    "                update_rule='adam',\n",
    "                optim_config={\n",
    "                  'learning_rate': 1e-2,\n",
    "                },\n",
    "                verbose=False, print_every=200,\n",
    "               lr_decay=.95)\n",
    "solver.train()\n",
    "solver.train()\n",
    "print \"Final training loss: \", solver.loss_history[-1]\n",
    "print \"Final training acc: \", solver.train_acc_history[-1]\n",
    "print \"Final validation error: \", solver.val_acc_history[-1]"
   ]
  },
  {
   "cell_type": "code",
   "execution_count": null,
   "metadata": {
    "collapsed": false
   },
   "outputs": [],
   "source": [
    "print small_data['X_train'][0,:,:]"
   ]
  },
  {
   "cell_type": "code",
   "execution_count": null,
   "metadata": {
    "collapsed": false
   },
   "outputs": [],
   "source": [
    "scores = solver.model.loss(data_val['X'][100,:,:])"
   ]
  },
  {
   "cell_type": "code",
   "execution_count": null,
   "metadata": {
    "collapsed": false
   },
   "outputs": [],
   "source": [
    "print \"Final training loss: \", solver.loss_history[-1]\n",
    "print \"Final training acc: \", solver.train_acc_history[-1]\n",
    "print \"Final validation error: \", solver.val_acc_history[-1]\n",
    "\n",
    "plt.subplot(3, 1, 1)\n",
    "plt.title('Training loss')\n",
    "plt.xlabel('Iteration')\n",
    "\n",
    "plt.subplot(3, 1, 2)\n",
    "plt.title('Training accuracy')\n",
    "plt.xlabel('Epoch')\n",
    "\n",
    "plt.subplot(3, 1, 3)\n",
    "plt.title('Validation accuracy')\n",
    "plt.xlabel('Epoch')\n",
    "\n",
    "plt.subplot(3, 1, 1)\n",
    "plt.plot(solver.loss_history, 'o', label='baseline')\n",
    "\n",
    "plt.subplot(3, 1, 2)\n",
    "plt.plot(solver.train_acc_history, '-o', label='baseline')\n",
    "\n",
    "plt.subplot(3, 1, 3)\n",
    "plt.plot(solver.val_acc_history, '-o', label='baseline')\n",
    "  \n",
    "for i in [1, 2, 3]:\n",
    "  plt.subplot(3, 1, i)\n",
    "  plt.legend(loc='upper center', ncol=4)\n",
    "plt.gcf().set_size_inches(15, 15)\n",
    "plt.show()"
   ]
  },
  {
   "cell_type": "code",
   "execution_count": null,
   "metadata": {
    "collapsed": false
   },
   "outputs": [],
   "source": [
    "### STOP HERE ###"
   ]
  },
  {
   "cell_type": "code",
   "execution_count": null,
   "metadata": {
    "collapsed": true
   },
   "outputs": [],
   "source": [
    "print 'X: ', np.max(data_val['X']), np.min(data_val['X']), np.mean(data_val['X'])\n",
    "print 'y: ', np.max(data_val['y']), np.min(data_val['y']), np.mean(data_val['y']), np.sum(data_val['y'])\n",
    "print 'c: ', np.max(data_val['c']), np.min(data_val['c']), np.mean(data_val['c']), np.sum(data_val['c'])\n",
    "centroid_error = .5*np.sum((data_val['c']-data_val['y'])**2) / data_val['y'].shape[0]/np.abs(np.max(data_val['y']))\n",
    "print \"centroid_error: \", centroid_error\n",
    "zero_error = .5*np.sum((0-data_val['y'])**2) / data_val['y'].shape[0]/np.max(data_val['y'])\n",
    "print \"zero_error: \", zero_error\n",
    "scores = solver.model.loss(data_val['X'])\n",
    "np.sum(np.sign(scores))\n",
    "print \"Sign diff scores,c: \", np.sum(np.sign(scores)-np.sign(data_val['c']))\n",
    "print \"Sign diff scores,-y: \", np.sum(np.sign(scores)+np.sign(data_val['y']))\n",
    "print \"Sign diff c,-y: \", np.sum(np.sign(data_val['c'])+np.sign(data_val['y']))\n",
    "print \"Sum scores: \", np.sum(scores)\n",
    "print \"Abs diff scores,c: \",np.sum(np.abs(scores-data_val['y']))\n",
    "#print \"check_accuracy: \", solver.check_accuracy(data_val['X'], data_val['c'])\n",
    "#print \"val_acc_history: \", solver.val_acc_history"
   ]
  },
  {
   "cell_type": "code",
   "execution_count": null,
   "metadata": {
    "collapsed": false
   },
   "outputs": [],
   "source": [
    "best_train_accs = []\n",
    "best_val_accs  = []\n",
    "final_train_loss = []\n",
    "for ws in regs:\n",
    "\n",
    "  best_train_accs.append(max(solvers[ws].train_acc_history))\n",
    "  \n",
    "  best_val_accs.append(max(solvers[ws].val_acc_history))\n",
    "  \n",
    "  final_train_loss.append(np.mean(solvers[ws].loss_history[-100:]))\n",
    "  \n",
    "plt.subplot(3, 1, 1)\n",
    "plt.title('Best val accuracy vs weight initialization scale')\n",
    "plt.xlabel('Weight initialization scale')\n",
    "plt.ylabel('Best val accuracy')\n",
    "plt.semilogx(regs, best_val_accs, '-o', label='baseline')\n",
    "plt.legend(ncol=2, loc='lower right')\n",
    "\n",
    "plt.subplot(3, 1, 2)\n",
    "plt.title('Best train accuracy vs weight initialization scale')\n",
    "plt.xlabel('Weight initialization scale')\n",
    "plt.ylabel('Best training accuracy')\n",
    "plt.semilogx(regs, best_train_accs, '-o', label='baseline')\n",
    "plt.legend()\n",
    "\n",
    "plt.subplot(3, 1, 3)\n",
    "plt.title('Final training loss vs weight initialization scale')\n",
    "plt.xlabel('Weight initialization scale')\n",
    "plt.ylabel('Final training loss')\n",
    "plt.semilogx(regs, final_train_loss, '-o', label='baseline')\n",
    "plt.legend()\n",
    "\n",
    "plt.gcf().set_size_inches(10, 15)\n",
    "plt.show()"
   ]
  },
  {
   "cell_type": "code",
   "execution_count": null,
   "metadata": {
    "collapsed": false
   },
   "outputs": [],
   "source": [
    "rng = np.random.RandomState(1)\n",
    "X=data_train['X'].copy()\n",
    "y_tr=data_train['y'].copy()\n",
    "regr_1 = AdaBoostRegressor(DecisionTreeRegressor(max_depth=4),\n",
    "                          n_estimators=300, random_state=rng)\n",
    "#regr_2 = AdaBoostRegressor(DecisionTreeRegressor(max_depth=4),\n",
    "#                          n_estimators=300, random_state=rng)\n",
    "Xtr = X.copy()\n",
    "Xtr = Xtr.reshape((256,32*32))\n",
    "regr_1.fit(Xtr, y_tr)\n",
    "#regr_1.fit(Xtr, y_tr[:,0])\n",
    "#regr_2.fit(Xtr, y_tr[:,1])\n",
    "\n",
    "# Predict\n",
    "X2=data_val['X'].copy()\n",
    "y=data_val['y'].copy()\n",
    "X2 = X2.reshape((32,32*32))\n",
    "y_1 = regr_1.predict(X2)\n",
    "#y_1 = regr_1.predict(X2)\n",
    "#y_2 = regr_2.predict(X2)\n",
    "\n",
    "print \"Loss: \", .5*np.sum((y_1-y)**2)/ 32\n",
    "#print np.sum((np.sign(y_1)!=np.sign(y[:,0])))+np.sum(np.sign(y_2)!=np.sign(y[:,1]))\n",
    "#print \"Loss: \", .5*np.sum((y_1-y[:,0])**2+(y_2-y[:,1])**2) / 32 /np.max(np.max(y[:,0]),np.max(y[:,1]))\n",
    "#print \"Loss2: \", np.sum(np.abs(y_1-y[:,0])+np.abs(y_2-y[:,1]))\n",
    "# Plot the results\n",
    "plt.figure()\n",
    "plt.scatter(np.linspace(0,1,32), .5*np.sum(y_1-y**2)/32, c=\"k\", label=\"training samples\")\n",
    "plt.plot(np.linspace(0,1,32), y_1, c=\"g\", label=\"n_estimators=1\", linewidth=2)\n",
    "plt.xlabel(\"data\")\n",
    "plt.ylabel(\"target\")\n",
    "plt.title(\"Boosted Decision Tree Regression\")\n",
    "plt.legend()\n",
    "plt.show()\n",
    "#plt.figure()\n",
    "#plt.scatter(np.linspace(0,1,32), .5*np.sum((y_2-y[:,1])**2), c=\"k\", label=\"training samples\")\n",
    "#plt.plot(np.linspace(0,1,32), y_2, c=\"g\", label=\"n_estimators=1\", linewidth=2)\n",
    "#plt.xlabel(\"data\")\n",
    "#plt.ylabel(\"target\")\n",
    "#plt.title(\"Boosted Decision Tree Regression\")\n",
    "#plt.legend()\n",
    "#plt.show()\n"
   ]
  },
  {
   "cell_type": "code",
   "execution_count": null,
   "metadata": {
    "collapsed": true
   },
   "outputs": [],
   "source": [
    "#### END ####"
   ]
  },
  {
   "cell_type": "code",
   "execution_count": null,
   "metadata": {
    "collapsed": false
   },
   "outputs": [],
   "source": [
    "pixelPointsXMesh, pixelPointsYMesh = np.meshgrid(pixelPoints,pixelPoints)"
   ]
  },
  {
   "cell_type": "code",
   "execution_count": null,
   "metadata": {
    "collapsed": false
   },
   "outputs": [],
   "source": [
    "scatterPixelPointsX = np.reshape(pixelPointsXMesh,(1,np.size(pixelPointsXMesh)))\n",
    "scatterPixelPointsY = np.reshape(pixelPointsYMesh,(1,np.size(pixelPointsYMesh)))"
   ]
  },
  {
   "cell_type": "code",
   "execution_count": null,
   "metadata": {
    "collapsed": false
   },
   "outputs": [],
   "source": [
    "Fx = np.sinc(fersnelNumber*(focalPlaneMeshX + ratio2*xTilt))\n",
    "#plt.plot(spaceDimensionPoints,Fx**2.0)\n",
    "Fy = np.sinc(fersnelNumber*(focalPlaneMeshY + ratio2*yTilt))"
   ]
  },
  {
   "cell_type": "code",
   "execution_count": null,
   "metadata": {
    "collapsed": false
   },
   "outputs": [],
   "source": [
    "irradiance = vacuumPermittivity*speedOfLight*(amplitudeOfLight**2.0) * (Fx**2.0) * (Fy**2.0)"
   ]
  },
  {
   "cell_type": "code",
   "execution_count": null,
   "metadata": {
    "collapsed": false
   },
   "outputs": [],
   "source": [
    "fig, ax = plt.subplots(figsize=(8,8))\n",
    "lensPoints = np.array([[-1.0,-1.0],[-1.0,1.0], [1.0,1.0],[1.0,-1.0],[-1.0,-1.0]])\n",
    "lensPoints[0,0]\n",
    "p = ax.contourf(focalPlaneMeshX, focalPlaneMeshY, irradiance,100)\n",
    "ax.scatter(scatterPixelPointsX,scatterPixelPointsY,color='red')\n",
    "\n",
    "fig.colorbar(p)"
   ]
  },
  {
   "cell_type": "code",
   "execution_count": null,
   "metadata": {
    "collapsed": false
   },
   "outputs": [],
   "source": [
    "pixelBlocks = np.zeros((numberOfPixels,numberOfPixels,pointsPerPixel,pointsPerPixel))\n",
    "meshXBlocks = np.zeros((numberOfPixels,numberOfPixels,pointsPerPixel,pointsPerPixel))\n",
    "meshYBlocks = np.zeros((numberOfPixels,numberOfPixels,pointsPerPixel,pointsPerPixel))\n",
    "integrals    = np.zeros([numberOfPixels,numberOfPixels])\n",
    "\n",
    "for indexPixel1 in range(0,numberOfPixels):\n",
    "    for indexPixel2 in range(0,numberOfPixels):\n",
    "        for indexPoint1 in range(0,pointsPerPixel):\n",
    "            for indexPoint2 in range(0,pointsPerPixel):\n",
    "                pixelBlocks[indexPixel1,indexPixel2,indexPoint1,indexPoint2] = irradiance[indexPixel1*(pointsPerPixel-1) + indexPoint1\n",
    "                                                                                        ,indexPixel2*(pointsPerPixel-1) + indexPoint2]\n",
    "                meshXBlocks[indexPixel1,indexPixel2,indexPoint1,indexPoint2] = focalPlaneMeshX[indexPixel1*(pointsPerPixel-1) + indexPoint1\n",
    "                                                                                        ,indexPixel2*(pointsPerPixel-1) + indexPoint2]\n",
    "                meshYBlocks[indexPixel1,indexPixel2,indexPoint1,indexPoint2] = focalPlaneMeshY[indexPixel1*(pointsPerPixel-1) + indexPoint1\n",
    "                                                                                        ,indexPixel2*(pointsPerPixel-1) + indexPoint2]\n",
    "                \n",
    "                x = meshXBlocks[indexPixel1,indexPixel2,0,:]\n",
    "                y = meshYBlocks[indexPixel1,indexPixel2,:,0]\n",
    "\n",
    "                integrals[indexPixel1,indexPixel2] = simps(simps(pixelBlocks[indexPixel1,indexPixel2,:,:], y), x)"
   ]
  },
  {
   "cell_type": "code",
   "execution_count": null,
   "metadata": {
    "collapsed": false
   },
   "outputs": [],
   "source": [
    "integrals[1,1]\n"
   ]
  },
  {
   "cell_type": "code",
   "execution_count": null,
   "metadata": {
    "collapsed": false
   },
   "outputs": [],
   "source": [
    "(integrals/joulesPerPhoton)*pulseDuration + 5*np.random.randn(integrals.shape[0],integrals.shape[1])"
   ]
  },
  {
   "cell_type": "code",
   "execution_count": null,
   "metadata": {
    "collapsed": false
   },
   "outputs": [],
   "source": [
    "centerX, centerY = np.meshgrid(centerPoints,centerPoints)\n",
    "centerX = np.reshape(centerX,(1,np.size(centerX)))\n",
    "centerY = np.reshape(centerY,(1,np.size(centerY)))\n",
    "integrals = np.reshape(integrals,(1,np.size(integrals)))\n",
    "meanX = np.mean(centerX*integrals)\n",
    "meanY = np.mean(centerY*integrals)\n",
    "centroid = [meanX, meanY]    \n",
    "centers = np.hstack((centerX.T,centerY.T))\n",
    "#Alternative calculation: centroid=np.mean(centers*np.reshape(integrals,(np.size(integrals),1)), axis=0)\n",
    "print centroid\n",
    "print centers"
   ]
  },
  {
   "cell_type": "code",
   "execution_count": null,
   "metadata": {
    "collapsed": false
   },
   "outputs": [],
   "source": [
    "xvector"
   ]
  },
  {
   "cell_type": "code",
   "execution_count": null,
   "metadata": {
    "collapsed": false
   },
   "outputs": [],
   "source": [
    "fig = plt.figure(figsize=(14,6))\n",
    "\n",
    "# `ax` is a 3D-aware axis instance, because of the projection='3d' keyword argument to add_subplot\n",
    "ax = fig.add_subplot(1, 2, 1, projection='3d')\n",
    "\n",
    "p = ax.plot_surface(integrals)\n"
   ]
  },
  {
   "cell_type": "code",
   "execution_count": null,
   "metadata": {
    "collapsed": false
   },
   "outputs": [],
   "source": [
    "plt.contourf(meshXBlocks[0,0,:,:],meshYBlocks[0,0,:,:], pixelBlocks[0,0,:,:],100)\n"
   ]
  },
  {
   "cell_type": "code",
   "execution_count": null,
   "metadata": {
    "collapsed": false
   },
   "outputs": [],
   "source": [
    "plt.contourf(meshXBlocks[0,0,:,:],meshYBlocks[0,0,:,:], pixelBlocks[0,0,:,:])\n",
    "\n",
    "[meshXBlocks[0,0,0,pointsPerPixel-1],meshYBlocks[0,0,0,pointsPerPixel-1],pixelBlocks[0,0,0,pointsPerPixel-1]]\n",
    "        "
   ]
  },
  {
   "cell_type": "code",
   "execution_count": null,
   "metadata": {
    "collapsed": false
   },
   "outputs": [],
   "source": [
    "\n",
    "\n",
    "meshXBlocks[0,0,0,:]\n",
    "        "
   ]
  },
  {
   "cell_type": "code",
   "execution_count": null,
   "metadata": {
    "collapsed": false
   },
   "outputs": [],
   "source": [
    "[meshXBlocks[1,0,:,:],\n",
    "meshYBlocks[1,0,:,:],pixelBlocks[1,0,:,:]]"
   ]
  },
  {
   "cell_type": "code",
   "execution_count": null,
   "metadata": {
    "collapsed": false
   },
   "outputs": [],
   "source": [
    "fig = plt.figure()\n",
    "for indexPixel1 in range(0,10):\n",
    "    for indexPixel2 in range(0,10):\n",
    "        ax = fig.add_subplot(10,10, indexPixel1*(10-1)+indexPixel2)\n",
    "        ax.get_xaxis().set_visible(False)\n",
    "        ax.get_yaxis().set_visible(False)\n",
    "        plt.contourf(meshXBlocks[indexPixel1,indexPixel2,:,:],meshYBlocks[indexPixel1,indexPixel2,:,:], pixelBlocks[indexPixel1,indexPixel2,:,:],100)"
   ]
  },
  {
   "cell_type": "code",
   "execution_count": null,
   "metadata": {
    "collapsed": false
   },
   "outputs": [],
   "source": []
  },
  {
   "cell_type": "code",
   "execution_count": null,
   "metadata": {
    "collapsed": false
   },
   "outputs": [],
   "source": [
    "fig = plt.figure(figsize=(14,6))\n",
    "\n",
    "# `ax` is a 3D-aware axis instance, because of the projection='3d' keyword argument to add_subplot\n",
    "ax = fig.add_subplot(1, 2, 1, projection='3d')\n",
    "\n",
    "p = ax.plot_surface(apertureDiameter*xv, apertureDiameter*yv, irradiance, rstride=16, cstride=16)\n"
   ]
  },
  {
   "cell_type": "code",
   "execution_count": null,
   "metadata": {
    "collapsed": false
   },
   "outputs": [],
   "source": [
    "fftF = (1.0/numberOfPointsSpaceDimension) * np.fft.fftshift(np.fft.fft(F))\n",
    "wxv, wyv = np.meshgrid(waveNumberDimensionPoints, waveNumberDimensionPoints)"
   ]
  },
  {
   "cell_type": "code",
   "execution_count": null,
   "metadata": {
    "collapsed": false
   },
   "outputs": [],
   "source": [
    "fig = plt.figure(figsize=(14,6))\n",
    "\n",
    "# `ax` is a 3D-aware axis instance, because of the projection='3d' keyword argument to add_subplot\n",
    "ax = fig.add_subplot(1, 2, 1, projection='3d')\n",
    "\n",
    "p = ax.plot_surface(wxv, wyv, np.abs(fftF)**2.0, rstride=1, cstride=1, linewidth=0)"
   ]
  },
  {
   "cell_type": "code",
   "execution_count": null,
   "metadata": {
    "collapsed": false
   },
   "outputs": [],
   "source": []
  }
 ],
 "metadata": {
  "kernelspec": {
   "display_name": "Python [Root]",
   "language": "python",
   "name": "Python [Root]"
  },
  "language_info": {
   "codemirror_mode": {
    "name": "ipython",
    "version": 2
   },
   "file_extension": ".py",
   "mimetype": "text/x-python",
   "name": "python",
   "nbconvert_exporter": "python",
   "pygments_lexer": "ipython2",
   "version": "2.7.11"
  }
 },
 "nbformat": 4,
 "nbformat_minor": 0
}
